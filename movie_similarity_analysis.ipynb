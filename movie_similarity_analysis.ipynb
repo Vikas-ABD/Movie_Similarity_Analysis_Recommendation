{
  "cells": [
    {
      "cell_type": "markdown",
      "metadata": {
        "id": "hkRjpOSXGV-O"
      },
      "source": [
        "# Loading Movie Plot Synopses Dataset from Kaggle\n",
        "\n",
        "In this assignment, I utilized the Movie Plot Synopses dataset available on Kaggle to perform movie similarity analysis. The dataset can be accessed using the following link: [MPST Movie Plot Synopses with Tags](https://www.kaggle.com/datasets/cryptexcode/mpst-movie-plot-synopses-with-tags).\n",
        "\n",
        "## Steps to Access the Dataset:\n",
        "\n",
        "1. **Download from Kaggle:**\n",
        "   - Visit the Kaggle dataset page mentioned above.\n",
        "   - Download the dataset, which includes a CSV file containing movie plot synopses.\n",
        "\n",
        "2. **Upload to Google Drive:**\n",
        "   - After downloading the dataset, upload the CSV file to your Google Drive for easy access in Google Colab.\n",
        "\n",
        "## Loading Data in Google Colab:"
      ]
    },
    {
      "cell_type": "code",
      "execution_count": 1,
      "metadata": {
        "colab": {
          "base_uri": "https://localhost:8080/"
        },
        "id": "qmlYqg9DECRl",
        "outputId": "e8eb7927-e8d7-4fc7-8780-3609702e303c"
      },
      "outputs": [
        {
          "output_type": "stream",
          "name": "stdout",
          "text": [
            "Requirement already satisfied: gdown in /usr/local/lib/python3.10/dist-packages (4.6.6)\n",
            "Requirement already satisfied: filelock in /usr/local/lib/python3.10/dist-packages (from gdown) (3.13.1)\n",
            "Requirement already satisfied: requests[socks] in /usr/local/lib/python3.10/dist-packages (from gdown) (2.31.0)\n",
            "Requirement already satisfied: six in /usr/local/lib/python3.10/dist-packages (from gdown) (1.16.0)\n",
            "Requirement already satisfied: tqdm in /usr/local/lib/python3.10/dist-packages (from gdown) (4.66.1)\n",
            "Requirement already satisfied: beautifulsoup4 in /usr/local/lib/python3.10/dist-packages (from gdown) (4.11.2)\n",
            "Requirement already satisfied: soupsieve>1.2 in /usr/local/lib/python3.10/dist-packages (from beautifulsoup4->gdown) (2.5)\n",
            "Requirement already satisfied: charset-normalizer<4,>=2 in /usr/local/lib/python3.10/dist-packages (from requests[socks]->gdown) (3.3.2)\n",
            "Requirement already satisfied: idna<4,>=2.5 in /usr/local/lib/python3.10/dist-packages (from requests[socks]->gdown) (3.6)\n",
            "Requirement already satisfied: urllib3<3,>=1.21.1 in /usr/local/lib/python3.10/dist-packages (from requests[socks]->gdown) (2.0.7)\n",
            "Requirement already satisfied: certifi>=2017.4.17 in /usr/local/lib/python3.10/dist-packages (from requests[socks]->gdown) (2023.11.17)\n",
            "Requirement already satisfied: PySocks!=1.5.7,>=1.5.6 in /usr/local/lib/python3.10/dist-packages (from requests[socks]->gdown) (1.7.1)\n",
            "Access denied with the following error:\n"
          ]
        },
        {
          "output_type": "stream",
          "name": "stderr",
          "text": [
            "\n",
            " \tCannot retrieve the public link of the file. You may need to change\n",
            "\tthe permission to 'Anyone with the link', or have had many accesses. \n",
            "\n",
            "You may still be able to access the file from the browser:\n",
            "\n",
            "\t https://drive.google.com/uc?id=12R_3kqxhkirXsM0FUfki2Koj_j3K8Ybd \n",
            "\n"
          ]
        }
      ],
      "source": [
        "##https://drive.google.com/file/d/12R_3kqxhkirXsM0FUfki2Koj_j3K8Ybd/view?usp=sharing\n",
        "!pip install gdown\n",
        "\n",
        "import gdown\n",
        "import shutil\n",
        "\n",
        "destination_path = '/content'\n",
        "\n",
        "# Direct download link for the ZIP file\n",
        "folder_id ='12R_3kqxhkirXsM0FUfki2Koj_j3K8Ybd'\n",
        "zip_file_url = f'https://drive.google.com/uc?id={folder_id}'\n",
        "\n",
        "\n",
        "# Download the ZIP file\n",
        "zip_file_path = destination_path + '/DATA.zip'\n",
        "gdown.download(zip_file_url, zip_file_path, quiet=False)\n"
      ]
    },
    {
      "cell_type": "code",
      "execution_count": 2,
      "metadata": {
        "colab": {
          "base_uri": "https://localhost:8080/"
        },
        "id": "lhv4vID01Dbp",
        "outputId": "4d8fb81a-124a-4772-ba89-bb788ef5babb"
      },
      "outputs": [
        {
          "output_type": "stream",
          "name": "stdout",
          "text": [
            "Mounted at /content/drive\n"
          ]
        }
      ],
      "source": [
        "from google.colab import drive\n",
        "drive.mount('/content/drive')"
      ]
    },
    {
      "cell_type": "code",
      "execution_count": 3,
      "metadata": {
        "colab": {
          "base_uri": "https://localhost:8080/"
        },
        "id": "rhq2X93EGxPT",
        "outputId": "798d7c52-6b15-4713-ebd3-c2aab1aece99"
      },
      "outputs": [
        {
          "output_type": "stream",
          "name": "stdout",
          "text": [
            "Data has been downloaded and extracted to: /content\n"
          ]
        }
      ],
      "source": [
        "# Extract the downloaded ZIP file\n",
        "shutil.unpack_archive('/content/drive/MyDrive/DATA/archive.zip', destination_path)\n",
        "\n",
        "print(\"Data has been downloaded and extracted to:\", destination_path)"
      ]
    },
    {
      "cell_type": "code",
      "execution_count": 4,
      "metadata": {
        "colab": {
          "base_uri": "https://localhost:8080/"
        },
        "id": "Qqvoo3SxHAdH",
        "outputId": "f2a31179-0302-402d-ed93-599a4ee44d76"
      },
      "outputs": [
        {
          "output_type": "execute_result",
          "data": {
            "text/plain": [
              "(14828, 6)"
            ]
          },
          "metadata": {},
          "execution_count": 4
        }
      ],
      "source": [
        "import pandas as pd\n",
        "\n",
        "# Assuming the file is uploaded with the name 'movies.csv'\n",
        "df1 = pd.read_csv('/content/mpst_full_data.csv')\n",
        "\n",
        "df1.shape"
      ]
    },
    {
      "cell_type": "code",
      "execution_count": 5,
      "metadata": {
        "colab": {
          "base_uri": "https://localhost:8080/",
          "height": 241
        },
        "id": "xcnWB0-JHEGP",
        "outputId": "2b7edd4c-31ab-4a08-de42-cca0f28afb30"
      },
      "outputs": [
        {
          "output_type": "execute_result",
          "data": {
            "text/plain": [
              "     imdb_id                                          title  \\\n",
              "0  tt0057603                        I tre volti della paura   \n",
              "1  tt1733125  Dungeons & Dragons: The Book of Vile Darkness   \n",
              "2  tt0033045                     The Shop Around the Corner   \n",
              "3  tt0113862                             Mr. Holland's Opus   \n",
              "4  tt0086250                                       Scarface   \n",
              "\n",
              "                                       plot_synopsis  \\\n",
              "0  Note: this synopsis is for the orginal Italian...   \n",
              "1  Two thousand years ago, Nhagruul the Foul, a s...   \n",
              "2  Matuschek's, a gift store in Budapest, is the ...   \n",
              "3  Glenn Holland, not a morning person by anyone'...   \n",
              "4  In May 1980, a Cuban man named Tony Montana (A...   \n",
              "\n",
              "                                                tags  split synopsis_source  \n",
              "0          cult, horror, gothic, murder, atmospheric  train            imdb  \n",
              "1                                           violence  train            imdb  \n",
              "2                                           romantic   test            imdb  \n",
              "3             inspiring, romantic, stupid, feel-good  train            imdb  \n",
              "4  cruelty, murder, dramatic, cult, violence, atm...    val            imdb  "
            ],
            "text/html": [
              "\n",
              "  <div id=\"df-927d003d-51cc-4ea0-899e-40b8d0978daa\" class=\"colab-df-container\">\n",
              "    <div>\n",
              "<style scoped>\n",
              "    .dataframe tbody tr th:only-of-type {\n",
              "        vertical-align: middle;\n",
              "    }\n",
              "\n",
              "    .dataframe tbody tr th {\n",
              "        vertical-align: top;\n",
              "    }\n",
              "\n",
              "    .dataframe thead th {\n",
              "        text-align: right;\n",
              "    }\n",
              "</style>\n",
              "<table border=\"1\" class=\"dataframe\">\n",
              "  <thead>\n",
              "    <tr style=\"text-align: right;\">\n",
              "      <th></th>\n",
              "      <th>imdb_id</th>\n",
              "      <th>title</th>\n",
              "      <th>plot_synopsis</th>\n",
              "      <th>tags</th>\n",
              "      <th>split</th>\n",
              "      <th>synopsis_source</th>\n",
              "    </tr>\n",
              "  </thead>\n",
              "  <tbody>\n",
              "    <tr>\n",
              "      <th>0</th>\n",
              "      <td>tt0057603</td>\n",
              "      <td>I tre volti della paura</td>\n",
              "      <td>Note: this synopsis is for the orginal Italian...</td>\n",
              "      <td>cult, horror, gothic, murder, atmospheric</td>\n",
              "      <td>train</td>\n",
              "      <td>imdb</td>\n",
              "    </tr>\n",
              "    <tr>\n",
              "      <th>1</th>\n",
              "      <td>tt1733125</td>\n",
              "      <td>Dungeons &amp; Dragons: The Book of Vile Darkness</td>\n",
              "      <td>Two thousand years ago, Nhagruul the Foul, a s...</td>\n",
              "      <td>violence</td>\n",
              "      <td>train</td>\n",
              "      <td>imdb</td>\n",
              "    </tr>\n",
              "    <tr>\n",
              "      <th>2</th>\n",
              "      <td>tt0033045</td>\n",
              "      <td>The Shop Around the Corner</td>\n",
              "      <td>Matuschek's, a gift store in Budapest, is the ...</td>\n",
              "      <td>romantic</td>\n",
              "      <td>test</td>\n",
              "      <td>imdb</td>\n",
              "    </tr>\n",
              "    <tr>\n",
              "      <th>3</th>\n",
              "      <td>tt0113862</td>\n",
              "      <td>Mr. Holland's Opus</td>\n",
              "      <td>Glenn Holland, not a morning person by anyone'...</td>\n",
              "      <td>inspiring, romantic, stupid, feel-good</td>\n",
              "      <td>train</td>\n",
              "      <td>imdb</td>\n",
              "    </tr>\n",
              "    <tr>\n",
              "      <th>4</th>\n",
              "      <td>tt0086250</td>\n",
              "      <td>Scarface</td>\n",
              "      <td>In May 1980, a Cuban man named Tony Montana (A...</td>\n",
              "      <td>cruelty, murder, dramatic, cult, violence, atm...</td>\n",
              "      <td>val</td>\n",
              "      <td>imdb</td>\n",
              "    </tr>\n",
              "  </tbody>\n",
              "</table>\n",
              "</div>\n",
              "    <div class=\"colab-df-buttons\">\n",
              "\n",
              "  <div class=\"colab-df-container\">\n",
              "    <button class=\"colab-df-convert\" onclick=\"convertToInteractive('df-927d003d-51cc-4ea0-899e-40b8d0978daa')\"\n",
              "            title=\"Convert this dataframe to an interactive table.\"\n",
              "            style=\"display:none;\">\n",
              "\n",
              "  <svg xmlns=\"http://www.w3.org/2000/svg\" height=\"24px\" viewBox=\"0 -960 960 960\">\n",
              "    <path d=\"M120-120v-720h720v720H120Zm60-500h600v-160H180v160Zm220 220h160v-160H400v160Zm0 220h160v-160H400v160ZM180-400h160v-160H180v160Zm440 0h160v-160H620v160ZM180-180h160v-160H180v160Zm440 0h160v-160H620v160Z\"/>\n",
              "  </svg>\n",
              "    </button>\n",
              "\n",
              "  <style>\n",
              "    .colab-df-container {\n",
              "      display:flex;\n",
              "      gap: 12px;\n",
              "    }\n",
              "\n",
              "    .colab-df-convert {\n",
              "      background-color: #E8F0FE;\n",
              "      border: none;\n",
              "      border-radius: 50%;\n",
              "      cursor: pointer;\n",
              "      display: none;\n",
              "      fill: #1967D2;\n",
              "      height: 32px;\n",
              "      padding: 0 0 0 0;\n",
              "      width: 32px;\n",
              "    }\n",
              "\n",
              "    .colab-df-convert:hover {\n",
              "      background-color: #E2EBFA;\n",
              "      box-shadow: 0px 1px 2px rgba(60, 64, 67, 0.3), 0px 1px 3px 1px rgba(60, 64, 67, 0.15);\n",
              "      fill: #174EA6;\n",
              "    }\n",
              "\n",
              "    .colab-df-buttons div {\n",
              "      margin-bottom: 4px;\n",
              "    }\n",
              "\n",
              "    [theme=dark] .colab-df-convert {\n",
              "      background-color: #3B4455;\n",
              "      fill: #D2E3FC;\n",
              "    }\n",
              "\n",
              "    [theme=dark] .colab-df-convert:hover {\n",
              "      background-color: #434B5C;\n",
              "      box-shadow: 0px 1px 3px 1px rgba(0, 0, 0, 0.15);\n",
              "      filter: drop-shadow(0px 1px 2px rgba(0, 0, 0, 0.3));\n",
              "      fill: #FFFFFF;\n",
              "    }\n",
              "  </style>\n",
              "\n",
              "    <script>\n",
              "      const buttonEl =\n",
              "        document.querySelector('#df-927d003d-51cc-4ea0-899e-40b8d0978daa button.colab-df-convert');\n",
              "      buttonEl.style.display =\n",
              "        google.colab.kernel.accessAllowed ? 'block' : 'none';\n",
              "\n",
              "      async function convertToInteractive(key) {\n",
              "        const element = document.querySelector('#df-927d003d-51cc-4ea0-899e-40b8d0978daa');\n",
              "        const dataTable =\n",
              "          await google.colab.kernel.invokeFunction('convertToInteractive',\n",
              "                                                    [key], {});\n",
              "        if (!dataTable) return;\n",
              "\n",
              "        const docLinkHtml = 'Like what you see? Visit the ' +\n",
              "          '<a target=\"_blank\" href=https://colab.research.google.com/notebooks/data_table.ipynb>data table notebook</a>'\n",
              "          + ' to learn more about interactive tables.';\n",
              "        element.innerHTML = '';\n",
              "        dataTable['output_type'] = 'display_data';\n",
              "        await google.colab.output.renderOutput(dataTable, element);\n",
              "        const docLink = document.createElement('div');\n",
              "        docLink.innerHTML = docLinkHtml;\n",
              "        element.appendChild(docLink);\n",
              "      }\n",
              "    </script>\n",
              "  </div>\n",
              "\n",
              "\n",
              "<div id=\"df-ce310531-24a1-422c-b8c6-68238c0eb6e4\">\n",
              "  <button class=\"colab-df-quickchart\" onclick=\"quickchart('df-ce310531-24a1-422c-b8c6-68238c0eb6e4')\"\n",
              "            title=\"Suggest charts\"\n",
              "            style=\"display:none;\">\n",
              "\n",
              "<svg xmlns=\"http://www.w3.org/2000/svg\" height=\"24px\"viewBox=\"0 0 24 24\"\n",
              "     width=\"24px\">\n",
              "    <g>\n",
              "        <path d=\"M19 3H5c-1.1 0-2 .9-2 2v14c0 1.1.9 2 2 2h14c1.1 0 2-.9 2-2V5c0-1.1-.9-2-2-2zM9 17H7v-7h2v7zm4 0h-2V7h2v10zm4 0h-2v-4h2v4z\"/>\n",
              "    </g>\n",
              "</svg>\n",
              "  </button>\n",
              "\n",
              "<style>\n",
              "  .colab-df-quickchart {\n",
              "      --bg-color: #E8F0FE;\n",
              "      --fill-color: #1967D2;\n",
              "      --hover-bg-color: #E2EBFA;\n",
              "      --hover-fill-color: #174EA6;\n",
              "      --disabled-fill-color: #AAA;\n",
              "      --disabled-bg-color: #DDD;\n",
              "  }\n",
              "\n",
              "  [theme=dark] .colab-df-quickchart {\n",
              "      --bg-color: #3B4455;\n",
              "      --fill-color: #D2E3FC;\n",
              "      --hover-bg-color: #434B5C;\n",
              "      --hover-fill-color: #FFFFFF;\n",
              "      --disabled-bg-color: #3B4455;\n",
              "      --disabled-fill-color: #666;\n",
              "  }\n",
              "\n",
              "  .colab-df-quickchart {\n",
              "    background-color: var(--bg-color);\n",
              "    border: none;\n",
              "    border-radius: 50%;\n",
              "    cursor: pointer;\n",
              "    display: none;\n",
              "    fill: var(--fill-color);\n",
              "    height: 32px;\n",
              "    padding: 0;\n",
              "    width: 32px;\n",
              "  }\n",
              "\n",
              "  .colab-df-quickchart:hover {\n",
              "    background-color: var(--hover-bg-color);\n",
              "    box-shadow: 0 1px 2px rgba(60, 64, 67, 0.3), 0 1px 3px 1px rgba(60, 64, 67, 0.15);\n",
              "    fill: var(--button-hover-fill-color);\n",
              "  }\n",
              "\n",
              "  .colab-df-quickchart-complete:disabled,\n",
              "  .colab-df-quickchart-complete:disabled:hover {\n",
              "    background-color: var(--disabled-bg-color);\n",
              "    fill: var(--disabled-fill-color);\n",
              "    box-shadow: none;\n",
              "  }\n",
              "\n",
              "  .colab-df-spinner {\n",
              "    border: 2px solid var(--fill-color);\n",
              "    border-color: transparent;\n",
              "    border-bottom-color: var(--fill-color);\n",
              "    animation:\n",
              "      spin 1s steps(1) infinite;\n",
              "  }\n",
              "\n",
              "  @keyframes spin {\n",
              "    0% {\n",
              "      border-color: transparent;\n",
              "      border-bottom-color: var(--fill-color);\n",
              "      border-left-color: var(--fill-color);\n",
              "    }\n",
              "    20% {\n",
              "      border-color: transparent;\n",
              "      border-left-color: var(--fill-color);\n",
              "      border-top-color: var(--fill-color);\n",
              "    }\n",
              "    30% {\n",
              "      border-color: transparent;\n",
              "      border-left-color: var(--fill-color);\n",
              "      border-top-color: var(--fill-color);\n",
              "      border-right-color: var(--fill-color);\n",
              "    }\n",
              "    40% {\n",
              "      border-color: transparent;\n",
              "      border-right-color: var(--fill-color);\n",
              "      border-top-color: var(--fill-color);\n",
              "    }\n",
              "    60% {\n",
              "      border-color: transparent;\n",
              "      border-right-color: var(--fill-color);\n",
              "    }\n",
              "    80% {\n",
              "      border-color: transparent;\n",
              "      border-right-color: var(--fill-color);\n",
              "      border-bottom-color: var(--fill-color);\n",
              "    }\n",
              "    90% {\n",
              "      border-color: transparent;\n",
              "      border-bottom-color: var(--fill-color);\n",
              "    }\n",
              "  }\n",
              "</style>\n",
              "\n",
              "  <script>\n",
              "    async function quickchart(key) {\n",
              "      const quickchartButtonEl =\n",
              "        document.querySelector('#' + key + ' button');\n",
              "      quickchartButtonEl.disabled = true;  // To prevent multiple clicks.\n",
              "      quickchartButtonEl.classList.add('colab-df-spinner');\n",
              "      try {\n",
              "        const charts = await google.colab.kernel.invokeFunction(\n",
              "            'suggestCharts', [key], {});\n",
              "      } catch (error) {\n",
              "        console.error('Error during call to suggestCharts:', error);\n",
              "      }\n",
              "      quickchartButtonEl.classList.remove('colab-df-spinner');\n",
              "      quickchartButtonEl.classList.add('colab-df-quickchart-complete');\n",
              "    }\n",
              "    (() => {\n",
              "      let quickchartButtonEl =\n",
              "        document.querySelector('#df-ce310531-24a1-422c-b8c6-68238c0eb6e4 button');\n",
              "      quickchartButtonEl.style.display =\n",
              "        google.colab.kernel.accessAllowed ? 'block' : 'none';\n",
              "    })();\n",
              "  </script>\n",
              "</div>\n",
              "    </div>\n",
              "  </div>\n"
            ]
          },
          "metadata": {},
          "execution_count": 5
        }
      ],
      "source": [
        "df1.head()"
      ]
    },
    {
      "cell_type": "code",
      "execution_count": 6,
      "metadata": {
        "id": "3Iez1s6PHSD0"
      },
      "outputs": [],
      "source": [
        "df1=df1[['imdb_id','title','plot_synopsis']]"
      ]
    },
    {
      "cell_type": "code",
      "execution_count": 7,
      "metadata": {
        "colab": {
          "base_uri": "https://localhost:8080/",
          "height": 206
        },
        "id": "fEVrZF0UH24a",
        "outputId": "83fcf30c-9acc-49e5-b6e6-bbac542c53f9"
      },
      "outputs": [
        {
          "output_type": "execute_result",
          "data": {
            "text/plain": [
              "         imdb_id             title  \\\n",
              "14823  tt0219952     Lucky Numbers   \n",
              "14824  tt1371159        Iron Man 2   \n",
              "14825  tt0063443        Play Dirty   \n",
              "14826  tt0039464         High Wall   \n",
              "14827  tt0235166  Against All Hope   \n",
              "\n",
              "                                           plot_synopsis  \n",
              "14823  In 1988 Russ Richards (John Travolta), the wea...  \n",
              "14824  In Russia, the media covers Tony Stark's discl...  \n",
              "14825  During the North African Campaign in World War...  \n",
              "14826  Steven Kenet catches his unfaithful wife in th...  \n",
              "14827  Sometime in the 1950s in Chicago a man, Cecil ...  "
            ],
            "text/html": [
              "\n",
              "  <div id=\"df-81e04196-fbfd-4aaf-9af4-329e460e5a51\" class=\"colab-df-container\">\n",
              "    <div>\n",
              "<style scoped>\n",
              "    .dataframe tbody tr th:only-of-type {\n",
              "        vertical-align: middle;\n",
              "    }\n",
              "\n",
              "    .dataframe tbody tr th {\n",
              "        vertical-align: top;\n",
              "    }\n",
              "\n",
              "    .dataframe thead th {\n",
              "        text-align: right;\n",
              "    }\n",
              "</style>\n",
              "<table border=\"1\" class=\"dataframe\">\n",
              "  <thead>\n",
              "    <tr style=\"text-align: right;\">\n",
              "      <th></th>\n",
              "      <th>imdb_id</th>\n",
              "      <th>title</th>\n",
              "      <th>plot_synopsis</th>\n",
              "    </tr>\n",
              "  </thead>\n",
              "  <tbody>\n",
              "    <tr>\n",
              "      <th>14823</th>\n",
              "      <td>tt0219952</td>\n",
              "      <td>Lucky Numbers</td>\n",
              "      <td>In 1988 Russ Richards (John Travolta), the wea...</td>\n",
              "    </tr>\n",
              "    <tr>\n",
              "      <th>14824</th>\n",
              "      <td>tt1371159</td>\n",
              "      <td>Iron Man 2</td>\n",
              "      <td>In Russia, the media covers Tony Stark's discl...</td>\n",
              "    </tr>\n",
              "    <tr>\n",
              "      <th>14825</th>\n",
              "      <td>tt0063443</td>\n",
              "      <td>Play Dirty</td>\n",
              "      <td>During the North African Campaign in World War...</td>\n",
              "    </tr>\n",
              "    <tr>\n",
              "      <th>14826</th>\n",
              "      <td>tt0039464</td>\n",
              "      <td>High Wall</td>\n",
              "      <td>Steven Kenet catches his unfaithful wife in th...</td>\n",
              "    </tr>\n",
              "    <tr>\n",
              "      <th>14827</th>\n",
              "      <td>tt0235166</td>\n",
              "      <td>Against All Hope</td>\n",
              "      <td>Sometime in the 1950s in Chicago a man, Cecil ...</td>\n",
              "    </tr>\n",
              "  </tbody>\n",
              "</table>\n",
              "</div>\n",
              "    <div class=\"colab-df-buttons\">\n",
              "\n",
              "  <div class=\"colab-df-container\">\n",
              "    <button class=\"colab-df-convert\" onclick=\"convertToInteractive('df-81e04196-fbfd-4aaf-9af4-329e460e5a51')\"\n",
              "            title=\"Convert this dataframe to an interactive table.\"\n",
              "            style=\"display:none;\">\n",
              "\n",
              "  <svg xmlns=\"http://www.w3.org/2000/svg\" height=\"24px\" viewBox=\"0 -960 960 960\">\n",
              "    <path d=\"M120-120v-720h720v720H120Zm60-500h600v-160H180v160Zm220 220h160v-160H400v160Zm0 220h160v-160H400v160ZM180-400h160v-160H180v160Zm440 0h160v-160H620v160ZM180-180h160v-160H180v160Zm440 0h160v-160H620v160Z\"/>\n",
              "  </svg>\n",
              "    </button>\n",
              "\n",
              "  <style>\n",
              "    .colab-df-container {\n",
              "      display:flex;\n",
              "      gap: 12px;\n",
              "    }\n",
              "\n",
              "    .colab-df-convert {\n",
              "      background-color: #E8F0FE;\n",
              "      border: none;\n",
              "      border-radius: 50%;\n",
              "      cursor: pointer;\n",
              "      display: none;\n",
              "      fill: #1967D2;\n",
              "      height: 32px;\n",
              "      padding: 0 0 0 0;\n",
              "      width: 32px;\n",
              "    }\n",
              "\n",
              "    .colab-df-convert:hover {\n",
              "      background-color: #E2EBFA;\n",
              "      box-shadow: 0px 1px 2px rgba(60, 64, 67, 0.3), 0px 1px 3px 1px rgba(60, 64, 67, 0.15);\n",
              "      fill: #174EA6;\n",
              "    }\n",
              "\n",
              "    .colab-df-buttons div {\n",
              "      margin-bottom: 4px;\n",
              "    }\n",
              "\n",
              "    [theme=dark] .colab-df-convert {\n",
              "      background-color: #3B4455;\n",
              "      fill: #D2E3FC;\n",
              "    }\n",
              "\n",
              "    [theme=dark] .colab-df-convert:hover {\n",
              "      background-color: #434B5C;\n",
              "      box-shadow: 0px 1px 3px 1px rgba(0, 0, 0, 0.15);\n",
              "      filter: drop-shadow(0px 1px 2px rgba(0, 0, 0, 0.3));\n",
              "      fill: #FFFFFF;\n",
              "    }\n",
              "  </style>\n",
              "\n",
              "    <script>\n",
              "      const buttonEl =\n",
              "        document.querySelector('#df-81e04196-fbfd-4aaf-9af4-329e460e5a51 button.colab-df-convert');\n",
              "      buttonEl.style.display =\n",
              "        google.colab.kernel.accessAllowed ? 'block' : 'none';\n",
              "\n",
              "      async function convertToInteractive(key) {\n",
              "        const element = document.querySelector('#df-81e04196-fbfd-4aaf-9af4-329e460e5a51');\n",
              "        const dataTable =\n",
              "          await google.colab.kernel.invokeFunction('convertToInteractive',\n",
              "                                                    [key], {});\n",
              "        if (!dataTable) return;\n",
              "\n",
              "        const docLinkHtml = 'Like what you see? Visit the ' +\n",
              "          '<a target=\"_blank\" href=https://colab.research.google.com/notebooks/data_table.ipynb>data table notebook</a>'\n",
              "          + ' to learn more about interactive tables.';\n",
              "        element.innerHTML = '';\n",
              "        dataTable['output_type'] = 'display_data';\n",
              "        await google.colab.output.renderOutput(dataTable, element);\n",
              "        const docLink = document.createElement('div');\n",
              "        docLink.innerHTML = docLinkHtml;\n",
              "        element.appendChild(docLink);\n",
              "      }\n",
              "    </script>\n",
              "  </div>\n",
              "\n",
              "\n",
              "<div id=\"df-2b55fcf4-6e83-429a-a63a-312ef0760d04\">\n",
              "  <button class=\"colab-df-quickchart\" onclick=\"quickchart('df-2b55fcf4-6e83-429a-a63a-312ef0760d04')\"\n",
              "            title=\"Suggest charts\"\n",
              "            style=\"display:none;\">\n",
              "\n",
              "<svg xmlns=\"http://www.w3.org/2000/svg\" height=\"24px\"viewBox=\"0 0 24 24\"\n",
              "     width=\"24px\">\n",
              "    <g>\n",
              "        <path d=\"M19 3H5c-1.1 0-2 .9-2 2v14c0 1.1.9 2 2 2h14c1.1 0 2-.9 2-2V5c0-1.1-.9-2-2-2zM9 17H7v-7h2v7zm4 0h-2V7h2v10zm4 0h-2v-4h2v4z\"/>\n",
              "    </g>\n",
              "</svg>\n",
              "  </button>\n",
              "\n",
              "<style>\n",
              "  .colab-df-quickchart {\n",
              "      --bg-color: #E8F0FE;\n",
              "      --fill-color: #1967D2;\n",
              "      --hover-bg-color: #E2EBFA;\n",
              "      --hover-fill-color: #174EA6;\n",
              "      --disabled-fill-color: #AAA;\n",
              "      --disabled-bg-color: #DDD;\n",
              "  }\n",
              "\n",
              "  [theme=dark] .colab-df-quickchart {\n",
              "      --bg-color: #3B4455;\n",
              "      --fill-color: #D2E3FC;\n",
              "      --hover-bg-color: #434B5C;\n",
              "      --hover-fill-color: #FFFFFF;\n",
              "      --disabled-bg-color: #3B4455;\n",
              "      --disabled-fill-color: #666;\n",
              "  }\n",
              "\n",
              "  .colab-df-quickchart {\n",
              "    background-color: var(--bg-color);\n",
              "    border: none;\n",
              "    border-radius: 50%;\n",
              "    cursor: pointer;\n",
              "    display: none;\n",
              "    fill: var(--fill-color);\n",
              "    height: 32px;\n",
              "    padding: 0;\n",
              "    width: 32px;\n",
              "  }\n",
              "\n",
              "  .colab-df-quickchart:hover {\n",
              "    background-color: var(--hover-bg-color);\n",
              "    box-shadow: 0 1px 2px rgba(60, 64, 67, 0.3), 0 1px 3px 1px rgba(60, 64, 67, 0.15);\n",
              "    fill: var(--button-hover-fill-color);\n",
              "  }\n",
              "\n",
              "  .colab-df-quickchart-complete:disabled,\n",
              "  .colab-df-quickchart-complete:disabled:hover {\n",
              "    background-color: var(--disabled-bg-color);\n",
              "    fill: var(--disabled-fill-color);\n",
              "    box-shadow: none;\n",
              "  }\n",
              "\n",
              "  .colab-df-spinner {\n",
              "    border: 2px solid var(--fill-color);\n",
              "    border-color: transparent;\n",
              "    border-bottom-color: var(--fill-color);\n",
              "    animation:\n",
              "      spin 1s steps(1) infinite;\n",
              "  }\n",
              "\n",
              "  @keyframes spin {\n",
              "    0% {\n",
              "      border-color: transparent;\n",
              "      border-bottom-color: var(--fill-color);\n",
              "      border-left-color: var(--fill-color);\n",
              "    }\n",
              "    20% {\n",
              "      border-color: transparent;\n",
              "      border-left-color: var(--fill-color);\n",
              "      border-top-color: var(--fill-color);\n",
              "    }\n",
              "    30% {\n",
              "      border-color: transparent;\n",
              "      border-left-color: var(--fill-color);\n",
              "      border-top-color: var(--fill-color);\n",
              "      border-right-color: var(--fill-color);\n",
              "    }\n",
              "    40% {\n",
              "      border-color: transparent;\n",
              "      border-right-color: var(--fill-color);\n",
              "      border-top-color: var(--fill-color);\n",
              "    }\n",
              "    60% {\n",
              "      border-color: transparent;\n",
              "      border-right-color: var(--fill-color);\n",
              "    }\n",
              "    80% {\n",
              "      border-color: transparent;\n",
              "      border-right-color: var(--fill-color);\n",
              "      border-bottom-color: var(--fill-color);\n",
              "    }\n",
              "    90% {\n",
              "      border-color: transparent;\n",
              "      border-bottom-color: var(--fill-color);\n",
              "    }\n",
              "  }\n",
              "</style>\n",
              "\n",
              "  <script>\n",
              "    async function quickchart(key) {\n",
              "      const quickchartButtonEl =\n",
              "        document.querySelector('#' + key + ' button');\n",
              "      quickchartButtonEl.disabled = true;  // To prevent multiple clicks.\n",
              "      quickchartButtonEl.classList.add('colab-df-spinner');\n",
              "      try {\n",
              "        const charts = await google.colab.kernel.invokeFunction(\n",
              "            'suggestCharts', [key], {});\n",
              "      } catch (error) {\n",
              "        console.error('Error during call to suggestCharts:', error);\n",
              "      }\n",
              "      quickchartButtonEl.classList.remove('colab-df-spinner');\n",
              "      quickchartButtonEl.classList.add('colab-df-quickchart-complete');\n",
              "    }\n",
              "    (() => {\n",
              "      let quickchartButtonEl =\n",
              "        document.querySelector('#df-2b55fcf4-6e83-429a-a63a-312ef0760d04 button');\n",
              "      quickchartButtonEl.style.display =\n",
              "        google.colab.kernel.accessAllowed ? 'block' : 'none';\n",
              "    })();\n",
              "  </script>\n",
              "</div>\n",
              "    </div>\n",
              "  </div>\n"
            ]
          },
          "metadata": {},
          "execution_count": 7
        }
      ],
      "source": [
        "df1.tail()"
      ]
    },
    {
      "cell_type": "code",
      "execution_count": 8,
      "metadata": {
        "colab": {
          "base_uri": "https://localhost:8080/"
        },
        "id": "Dwz4o0yuH39o",
        "outputId": "83ada5d6-9959-4c40-825f-c602f9bbe8b1"
      },
      "outputs": [
        {
          "output_type": "execute_result",
          "data": {
            "text/plain": [
              "imdb_id          0\n",
              "title            0\n",
              "plot_synopsis    0\n",
              "dtype: int64"
            ]
          },
          "metadata": {},
          "execution_count": 8
        }
      ],
      "source": [
        "df1.isnull().sum()"
      ]
    },
    {
      "cell_type": "code",
      "execution_count": 9,
      "metadata": {
        "colab": {
          "base_uri": "https://localhost:8080/",
          "height": 145
        },
        "id": "UpXTRRaNH7cQ",
        "outputId": "86599158-801c-43c2-fa16-1da48f32d606"
      },
      "outputs": [
        {
          "output_type": "execute_result",
          "data": {
            "text/plain": [
              "'Note: this synopsis is for the orginal Italian release with the segments in this certain order.Boris Karloff introduces three horror tales of the macabre and the supernatural known as the \\'Three Faces of Fear\\'.THE TELEPHONERosy (Michele Mercier) is an attractive, high-priced Parisian call-girl who returns to her spacious, basement apartment after an evening out when she immediately gets beset by a series of strange phone calls. The caller soon identified himself as Frank, her ex-pimp who has recently escaped from prison. Rosy is terrified for it was her testimony that landed the man in jail. Looking for solace, Rosy phones her lesbian lover Mary (Lynda Alfonsi). The two women have been estranged for some time, but Rosy is certain that she is the only one who can help her. Mary agrees to come over that night. Seconds later, Frank calls again, promising that no matter who she calls for protection, he will have his revenge. Unknown to Rosy, Mary is the caller impersonating Frank. Marry arrives at Rosy\\'s apartment soon after, and does her best to calm Rosy\\'s nerves. She gives the panic-struck woman a tranquillizer and puts her to bed.Later that night as Rosy sleeps, Mary gets up out of bed, and pens a note of confession: she was the one making the strange phone calls when she learned of Franks escape from prison. Knowing that Rosy would call on her for help, she explains that she felt it was her way of coming back into her life after their breakup. While she is busy writing, she fails to notice an intruder in the apartment. This time it is Frank, for real. He creeps up behind Mary and strangles her to death with one of Rosys nylon stockings. The sound of the struggle awaken Rosy and she gasps in fright. The murderous pimp realizes that he just killed the wrong woman, and slowly makes his way to Rosy\\'s bed. However, earlier that night, Rosy had placed a butcher knife under her pillow at Mary\\'s suggestion. Rosy seizes the knife and stabs Frank with it as he\\'s beginning to strangle her. Rosy drops the knife and breaks down in hysteria, surrounded by the two corpses of her former lovers.THE WURDALAKIn 19th Century Russia, Vladimir D\\'Urfe is a young nobleman on a long trip. During the course of his journey, he finds a beheaded corpse with a knife plunged into its heart. He withdraws the blade and takes it as a souvenir.Later that night, Vladimir stops at a small rural cottage to ask for shelter. He notices several daggers hanging up on one of the walls, and a vacant space that happens to fit the one he has discovered. Vladimir is surprised by the entrance of Giorgio (Glauco Onorato), who explains that the knife belongs to his father, who has not been seen for five days. Giorgio offers a room to the young count, and subsequently introduces him to the rest of the family: his wife (Rika Dialina), their young son Ivan, Giorgio\\'s younger brother Pietro (Massimo Righi), and sister Sdenka (Susy Anderson). It subsequently transpires that they are eagerly anticipating the arrival of their father, Gorcha, as well as the reason for his absence: he has gone to do battle with the outlaw and dreaded wurdalak Ali Beg. Vladimir is confused by the term, and Sdenka explains that a wurdalak is a walking cadaver who feeds on the blood of the living, preferably close friends and family members. Giorgio and Pietro are certain that the corpse Vladimir had discovered is that of Ali Beg, but also realize that there is a strong possibility that their father has been infected by the blood curse too. They warn the count to leave, but he decides to stay and await the old mans return.At the stroke of midnight, Gorcha (Boris Karloff) returns to the cottage. His sour demeanor and unkempt appearance bode the worse, and the two brothers are torn: they realize that it is their duty to kill Gorcha before he feeds on the family, but their love for him makes it difficult to reach a decision. Later that night, both Ivan and Pietro are attacked by Gorcha who drains them of blood, and then flees the cottage. Giorgio stakes and beheads Pietro to prevent him from reviving as a wurdalak. But he is prevented from doing so to Ivan when his wife threatens to commit suicide. Reluntantly, he agrees to bury the child without taking the necessary precautions.That same night, the child rises from his grave and begs to be invited into the cottage. The mother runs to her son\\'s aid, stabbing Giorgio when he attempts to stop her, only to be greeted at the front door by Gorcha. The old man bits and infects his daughter-in-law, who then does the same for her husband. Vladimir and Sdenka flee from the cottage and go on the run and hide out in the ruins of an abandoned cathedral as dawn breaks. Vladimir is optimistic that a long and happy life lies with them. But Sdenka is reluctant to relinquish her family ties. She believes that she is meant to stay with the family.Sdenka\\'s fears about her family are confirmed when that evening, Gorcha and her siblings show up at the abandoned Abby. As Vladimir sleeps, Sdenka is lured into their loving arms where they bite to death. Awakened by her screams, Vladimir rushes to her aid, but the family has already taken her home, forcing the lover to follow suite. The young nobleman finds her, lying motionless on her bed. Sdenka awakens, and a distinct change is visible on her face. No longer caring, Vladimir embraces her, and she bites and infects him too.THE DROP OF WATERIn Victorian London, England, Nurse Helen Chester (Jacqueline Pierreux) is called to a large house to prepare the corpse of an elderly medium for her burial. As she dressed the body, she notices an elaborate diamond ring on its finger. Tempted by greed, Nurse Chester steals it. As she does, a glass tips over, and drops of water begin to splash on the floor. She is also assailed by a fly, no doubt attracted by the odor of the body. Unsettled but pleased by her acquisition, she finishes the job and returns home to her small East End flat.After returning home, Nurse Chester is assailed by strange events. The buzzing fly returns and continues to pester her. Then the lights in her apartment go out, and the sounds of the dripping water continues with maddening regularity. She sees the old womans corpse lying on her bed, and coming towards her. The terrified woman begs for forgiveness, but she ultimately strangles herself, imaging that the medium\\'s hands are gripping her throat.The next morning, the concierge (Harriet White Medin) discovers Nurse Chester\\'s body and calls the police. The investigator on the scene (Gustavo de Nardo) quickly concludes that its a simple case and that Nurse Chester \"died of fright\". The pathologist arrives on the scene to examine the body before it\\'s taken away and he notes that the only sign of violence is a small bruise on her left finger, mostly likely caused when someone pried a ring from her finger. As the doctor makes this observation, the concierge appears distressed, as she has apparently took the ring from the dead Nurse Chester, and is further distracted by the sound of a fly swooping about in the air....Boris Karloff makes a final appearance as Gorcha riding on his horse as he concludes the three tales of fear and tells the viewers to be careful while walking home at night for ghosts and vampires have no fear. The image pulls back to actually reveal him sitting on a prop fake horse with a camera crew and various crewmen moving branches around to simulate the scene of riding through the forest from the Wurdalak segment.'"
            ],
            "application/vnd.google.colaboratory.intrinsic+json": {
              "type": "string"
            }
          },
          "metadata": {},
          "execution_count": 9
        }
      ],
      "source": [
        "df1['plot_synopsis'][0]"
      ]
    },
    {
      "cell_type": "markdown",
      "metadata": {
        "id": "fO0HkstgG3y5"
      },
      "source": [
        "# Text Preprocessing: Tokenization, Lemmatization, and Stopwords Removal\n",
        "\n",
        "After loading the dataset, the next step in the text preprocessing pipeline involves converting sentences into words, tokenization, and applying lemmatization along with stopwords removal.\n",
        "\n",
        "### Creating Processed Corpus\n",
        "\n",
        "To begin, we'll create a processed corpus, which is a list of preprocessed sentences. Each sentence will undergo the following steps.\n",
        "\n",
        "\n",
        "## Steps:\n",
        "\n",
        "1. **Tokenization:**\n",
        "   - Tokenization is the process of breaking down text into individual words or tokens.\n",
        "   - In this step, each movie plot synopsis is tokenized into a list of words.\n",
        "\n",
        "2. **Lemmatization:**\n",
        "   - Lemmatization is employed to reduce words to their base or root form.\n",
        "   - The NLTK library is used for lemmatization, considering the context of each word.\n",
        "\n",
        "3. **Stopword Removal:**\n",
        "   - Stopwords, which are common words that often don't contribute much to the meaning, are removed.\n",
        "   - The NLTK stopwords list for the English language is used for this purpose.\n",
        "\n",
        "## Code Implementation:\n",
        "\n"
      ]
    },
    {
      "cell_type": "code",
      "execution_count": 10,
      "metadata": {
        "colab": {
          "base_uri": "https://localhost:8080/"
        },
        "id": "SgYPnAYF_9oQ",
        "outputId": "6af35c54-2033-4c99-d076-a3b95a3a3362"
      },
      "outputs": [
        {
          "output_type": "stream",
          "name": "stderr",
          "text": [
            "[nltk_data] Downloading package stopwords to /root/nltk_data...\n",
            "[nltk_data]   Unzipping corpora/stopwords.zip.\n",
            "[nltk_data] Downloading package wordnet to /root/nltk_data...\n"
          ]
        }
      ],
      "source": [
        "import re\n",
        "import nltk\n",
        "nltk.download('stopwords')\n",
        "\n",
        "from nltk.stem import WordNetLemmatizer\n",
        "nltk.download('wordnet')\n",
        "from nltk.corpus import wordnet\n",
        "\n",
        "lemmatizer = WordNetLemmatizer()"
      ]
    },
    {
      "cell_type": "markdown",
      "source": [
        "It took more time so we can load the corpusl.pkl file direct and use"
      ],
      "metadata": {
        "id": "prAzmDMyn7Hj"
      }
    },
    {
      "cell_type": "code",
      "execution_count": null,
      "metadata": {
        "id": "JUKpJvPYBZRE"
      },
      "outputs": [],
      "source": [
        "corpusl = []\n",
        "for i in range(0, len(df1)):\n",
        "    review = re.sub('[^a-zA-Z]', ' ', df1['plot_synopsis'][i])\n",
        "    review = review.lower()\n",
        "    review = review.split()\n",
        "\n",
        "    review = [lemmatizer.lemmatize(word) for word in review if not word in stopwords.words('english')]\n",
        "    review = ' '.join(review)\n",
        "    corpusl.append(review)"
      ]
    },
    {
      "cell_type": "code",
      "execution_count": 11,
      "metadata": {
        "colab": {
          "base_uri": "https://localhost:8080/"
        },
        "id": "4omx01n5Bf5J",
        "outputId": "a99670ef-8e07-4a0a-c228-c1c458410913"
      },
      "outputs": [
        {
          "output_type": "stream",
          "name": "stdout",
          "text": [
            "Pickle file loaded successfully.\n",
            "First few elements in the loaded corpus:\n",
            "['note synopsis orginal italian release segment certain order boris karloff introduces three horror tale macabre supernatural known three face fear telephonerosy michele mercier attractive high priced parisian call girl return spacious basement apartment evening immediately get beset series strange phone call caller soon identified frank ex pimp recently escaped prison rosy terrified testimony landed man jail looking solace rosy phone lesbian lover mary lynda alfonsi two woman estranged time rosy certain one help mary agrees come night second later frank call promising matter call protection revenge unknown rosy mary caller impersonating frank marry arrives rosy apartment soon best calm rosy nerve give panic struck woman tranquillizer put bed later night rosy sleep mary get bed pen note confession one making strange phone call learned frank escape prison knowing rosy would call help explains felt way coming back life breakup busy writing fails notice intruder apartment time frank real creep behind mary strangles death one rosys nylon stocking sound struggle awaken rosy gasp fright murderous pimp realizes killed wrong woman slowly make way rosy bed however earlier night rosy placed butcher knife pillow mary suggestion rosy seizes knife stab frank beginning strangle rosy drop knife break hysteria surrounded two corps former lover wurdalakin th century russia vladimir urfe young nobleman long trip course journey find beheaded corpse knife plunged heart withdraws blade take souvenir later night vladimir stop small rural cottage ask shelter notice several dagger hanging one wall vacant space happens fit one discovered vladimir surprised entrance giorgio glauco onorato explains knife belongs father seen five day giorgio offer room young count subsequently introduces rest family wife rika dialina young son ivan giorgio younger brother pietro massimo righi sister sdenka susy anderson subsequently transpires eagerly anticipating arrival father gorcha well reason absence gone battle outlaw dreaded wurdalak ali beg vladimir confused term sdenka explains wurdalak walking cadaver feed blood living preferably close friend family member giorgio pietro certain corpse vladimir discovered ali beg also realize strong possibility father infected blood curse warn count leave decides stay await old man return stroke midnight gorcha boris karloff return cottage sour demeanor unkempt appearance bode worse two brother torn realize duty kill gorcha feed family love make difficult reach decision later night ivan pietro attacked gorcha drain blood flees cottage giorgio stake beheads pietro prevent reviving wurdalak prevented ivan wife threatens commit suicide reluntantly agrees bury child without taking necessary precaution night child rise grave begs invited cottage mother run son aid stabbing giorgio attempt stop greeted front door gorcha old man bit infects daughter law husband vladimir sdenka flee cottage go run hide ruin abandoned cathedral dawn break vladimir optimistic long happy life lie sdenka reluctant relinquish family tie belief meant stay family sdenka fear family confirmed evening gorcha sibling show abandoned abby vladimir sleep sdenka lured loving arm bite death awakened scream vladimir rush aid family already taken home forcing lover follow suite young nobleman find lying motionless bed sdenka awakens distinct change visible face longer caring vladimir embrace bite infects drop waterin victorian london england nurse helen chester jacqueline pierreux called large house prepare corpse elderly medium burial dressed body notice elaborate diamond ring finger tempted greed nurse chester steal glass tip drop water begin splash floor also assailed fly doubt attracted odor body unsettled pleased acquisition finish job return home small east end flat returning home nurse chester assailed strange event buzzing fly return continues pester light apartment go sound dripping water continues maddening regularity see old woman corpse lying bed coming towards terrified woman begs forgiveness ultimately strangles imaging medium hand gripping throat next morning concierge harriet white medin discovers nurse chester body call police investigator scene gustavo de nardo quickly concludes simple case nurse chester died fright pathologist arrives scene examine body taken away note sign violence small bruise left finger mostly likely caused someone pried ring finger doctor make observation concierge appears distressed apparently took ring dead nurse chester distracted sound fly swooping air boris karloff make final appearance gorcha riding horse concludes three tale fear tell viewer careful walking home night ghost vampire fear image pull back actually reveal sitting prop fake horse camera crew various crewman moving branch around simulate scene riding forest wurdalak segment', 'two thousand year ago nhagruul foul sorcerer reveled corrupting innocent spread despair neared end mortal day dismayed consumed hatred living nhagruul sold soul demon lord abyss malign spirit would survive excruciating ritual nhagrulls skin flayed page bone hammered cover diseased blood became ink pen book vile creature vile depraved rose every pit unclean barrow partake fever destruction kingdom karkoth consumed plague evil order holy warrior arose ash knight new sun swore oath resurrect hope land purity heart great pelor god light gave knight powerful amulet channel power transcendent divine might knight new sun pierced shadow darkened land twelve hundred year cast asunder awed glory disciple nhagruul disassembled book bribed three greedy soul hide piece could retrieved ink discovered destroyed despite year searching cover page never found peace ruled land century knight got lost light glory memory awful event faded power servant pelor unwittingly abandoned incorrect belief book vile darkness could never made whole remaining piece discovered ancient evil attempting bring together restore relic evil brought time potential new paladin named knight new sun attempt renew power fight evil may need go held dear risking soul quest destroy evil surround every turn', 'matuschek gift store budapest workplace alfred kralik james stewart newly hi ed klara novak margaret sullavan work constantly irritate daily aggravation tempered fact secret pen pal trade long soul searching letter romantic correspondence sent back forth alfred klara trade barb work dream someday meeting sensitive caring unknown pen pal christmas fast approaching store busy alfred store time always treated well mr matuschek frank morgan lately attitude changed alfred loss matuschek avoids explanation finally telling alfred would best left stunned alfred accepts last paycheck say goodbye everyone including klara civil long awaited meeting secret pen pal planned night alfred lost job desire go finding fight curiosity wanders restaurant agreed meet peek window fellow employee course klara waiting chosen book wearing red carnation agreed use signal realizing wrong along irritation actually masking attraction finally enters go table reveal true reason although aware hurt pen pal show alfred hurt rudeness finally leaf knowing wait night someone longer coming meanwhile back store mr matuschek late night meeting private detective know wife affair one employee convinced trusted friend alfred detective however tell matuschek fact another employee heart broken wife infidelity retires office delivery boy returning late enters prevents matuschek shooting pistol collapsing grief shame matuschekis rushed hospital next day alfred visit mr matuschek sick bed asks alfred forgiveness put back work manager store delivery boy rewarded raise store clerk klara arrives work late obviously heartbroken failure correspondent materialize last night find alfred manager office believe discovers true faint middle office later resting home alfred pay visit aunt brings another letter secret pen pal explains meeting saw alfred relieved misunderstanding swears alfred back work morning alfred obviously working plan reveal klara christmas eve everyone work day mr matuschek nearly recovered sickness stop see thing going final tally made store best sale day since delighted hand bonus take new stock boy christmas dinner alfred klara getting ready leave another date mystery pen pal alfred delay question never yet seen even know name convince end engaged come back work tell mysterious pen pal stopped see earlier fact fat bald older unemployed quite willing live klara income alfred reveals put red carnation lapel suddenly eveything becomes clear', 'glenn holland morning person anyone standard woken wife iris early one bright september morning glenn taken job music teacher newly renamed john f kennedy high school intends job sabbatical touring musician hope free time compose however soon find job teacher time consuming first thought arrives school first time meet vice principal wolters comment corvair model car ralph nader wrote book inside building meet principal helen jacob got awkward start go music room meet student first time student dull apathetic mostly terrible musician lunchtime meet football coach bill meister strike friendship end stressful first day glenn iris talk future everything go according plan paycheck made photography able quit four year go back music including composing glenn notice one dedicated inept clarinet player gertrude lang start working individually continues attempting teach class music continues working music home time pass grading paper gradually replaces working music home time much chagrin several month glenn grows exasperated seems none student learned anything class gertrude despite diligent practice improve clarinet playing glenn exasperation compounded principal jacob chastises focusing properly student noticed even happier leave end day student later glenn expounds frustration iris informs pregnant glenn dumbstruck muteness upset iris comfort tell story discovered john coltrane favorite musician record teenager point could get used turn affair soul searching glenn decides try unconventional method teaching music appreciation including use rock roll interest student demonstrating similarity bach minuet g rock roll form toy lover concerto first time student interested class glenn appears much happier relates iris assemble crib apartment getting crowded glenn suggests get house iris overjoyed even though mean using saving glenn sacrificing summer vacation intended use work composing order make extra money teaching driver ed glenn right family know forget getting teaching gig foreseeable future continuing new unorthodox teaching method finally get gertrude verge giving breakthrough become skilled clarinet player rediscovers joy playing competent band go play graduation summer vacation begin glenn follows plan teach driver ed series near death experience hand new driver glenn iris move new house soon see driver ed car except time glenn driving like maniac breaking every traffic law could get hospital see newborn son coltrane cole holland glenn unorthodox teaching method go unnoticed principal jacob vice principal wolters along conservative school board parent community hostile rock roll glenn able convince principal belief strongly teaching student music including rock roll help appreciate principal vice principal also hand new assignment get marching band together football team glenn loss concept bill meister agrees help exchange glenn putting one football player louis rus band allow earn extra curricular activity credit need order stay eligible sport team louis know absolutely nothing music take drum trouble keeping time always find place rest band later glenn bill chatting playing chess bill bachelor want know glenn story debauchery traveling musician glenn want talk past different person different time glenn instead tell bill pessimistic louis rus bill encourages keep trying much worked gertrude earlier glenn start working one one louis helping get feel tempo music hard work louis get later march band local parade much delight family immediately behind kennedy band parade fire engine deafeningly loud horn catch everyone surprise iris look cole stroller check noise awakened cole boy deaf revelation drive wedge glenn son seems son cannot understand somber glenn teach student beethoven deaf composer time pass see montage event late glenn pick away composition little time watch iris work cole stop early glenn still directing high school band cole old enough enter school mounting frustration inability communicate cole insists sending special school deaf whatever cost three visit school glenn wince cost enroll cole set learn sign language though iris put effort glenn apathetic student still go glenn class one named stadler stoned glenn chewing glenn receives bad news tell stadler meet saturday day appear funeral louis rus come home vietnam killed action coach meister glenn mourn end academic year bill reveals finally steady girl friend principal jacob retires high school praising glenn done see another montage event time glenn continues teaching driver ed summer see class welcomed back suggesting september glenn bill meister team help drama department rumored funding may pulled glenn bill tell wolters principal idea certain school make money rather lose musical revue gershwin classic audition musical revue glenn becomes entranced interested talented young singer named rowena morgan home teenage cole come home tell glenn science fair glenn missed iris fluent sign language glenn still fair iris reproach spending much time school project student neglecting son glenn frustrated realizing musical composing back burner year rowena visit glenn diner gotten habit going get house someplace quiet work unknown iris glenn writes small piece title rowena theme take interest rowena state want leave town go new york sing professionally glenn life home still strained iris agrees come school play saturday meeting cole teacher opening night friday school revue arrives last big hit playing packed house audience see coach meister wearing ring married woman saw earlier sarah drama teacher show principal wolters something new invention handheld calculator presumably showing much gate money made school coffer wolters look impressed revue rowena come see glenn auditorium tell intends pursue dream singing going new york next night second last performance revue glenn taken aback rowena hint like glenn come glenn go home look photo album looking picture family picture old life traveling musician half lifetime past tempted leave everything behind go rowena restore old life musician however realizes longer person visit rowena bus stop see giving name someone new york help find lodging glenn watch depart go home content love iris timeline shift late john lennon killed glenn go home find cole working glenn old corvair cole asks wrong glenn try explain give feeling son understand john lennon music infuriates cole iris explains care glenn know john lennon glenn seem interested communicating cole berates father putting much effort teaching student little towards calling asshole sign language stalk glenn make effort even provides concert high school also feature light item enhance show deaf member school cole attends glenn become somewhat proficient sign language even interpretation lennon song beautiful boy dedicated cole later glenn discovers cole listening record sitting speaker feeling vibration body start healing rift even glenn composition continues gather dust time pass glenn go see principal wolters announces art music drama cut school curriculum glenn would job shortly glenn become cynical old man tell wolters cut fine art would lead generation student would proficient reading writing math maybe would nothing read write wolters offer write glenn reference glenn year old fully recognizes futility gesture working day know look picture wall long departed former principal jacob say jacob would fought budget cut glenn pleads school board reconsider refuse home iris read letter grown cole become teacher considering offer university deaf washington c also taken glenn old car corvair saw beginning cole working teen jokingly writes never give back despondent glenn walk school last day talk coach bill whose job football coach safe though far retirement glenn figure bring money teaching piano lesson side unprepared forced early retirement glenn final day school cole show driving corvair school glenn surprised iris cole lead school auditorium organized surprise going away celebration see many former student audience including stadler pothead year arriving next gertrude lang clarinetist glenn helped since become state governor gertrude thanks glenn dedication glenn moved moved tear give baton asks conduct composition got hold curtain open band filled glenn former student assembled ready play governor lang pick clarinet take place among play first time musical opus glenn picking away three decade', 'may cuban man named tony montana al pacino claim asylum florida usa search american dream departing cuba mariel boatlift questioned three tough talking in official notice tattoo tony left arm black heart pitchfork identifies hitman detain camp called freedomtown cuban including tony best friend former cuban army buddy manolo manny ray ribiera steven bauer local expressway government evaluates visa petition day governmental dithering camp rumor manny receives offer cuban mafia quickly relay tony kill emilio rebenga roberto contreras former aide fidel castro detained freedomtown receive green card tony agrees kill rebenga riot freedomtown murder rebenga requested frank l pez wealthy politically astute man deal car trade cocaine rebenga tortured l pez brother death still cuba many year earlier getting green card tony montana manny ray find work dishwasher corner sandwich taco shop week later l pez henchman underboss omar su rez f murray abraham man contacted manny rebenga hit job offer tony manny low risk job unloading marijuana boat mexico arrive miami following night tony insult su rez turning job little money receive demand least work altercation su rez set tony another job purchase two kilogram cocaine worth around piece colombian dealer named hector toad medium high risk job tony manny receive work weekend tony manny two marielitos crew met freedomtown angel fern ndez pepe serna chi chi ngel salazar set meet hector toad al israel seedy motel boulevard miami beach manny chi chi wait car street tony angel go hotel room meet hector meeting go smoothly tony grows irritated hector slow give cocaine exchange money suddenly tony angel double crossed colombian becomes apparent hector intend sell tony cocaine want steal money tony given purchase product convince tony give cash hector dismembers angel shower stall chainsaw angel dead tony suffer fate saved chi chi manny arrive nick time gun hector henchman manny receives minor bullet wound shoulder uzi sub machine gun jam hector escape tony vengefully confronts street shoot dead middle crowded ocean drive famous miami south beach boulevard tony crew get away cocaine money police arrive following night tony manny meet l pez robert loggia house first time tony impress lopez return cash gift cocaine prize botched rip frank immediately hire tony crew criminal hierarchy representative cuban mafia initial get together tony also meet lopez lady blond beautiful elvira hancock michelle pfeiffer eventually become source tension two men taking tony manny local nightclub called babylon club frank frequently attends tony manny see first hand high standard living come acquire though frank actually warns excess tony seduced regardless thus tony montana begin rise rank miami cocaine underworld three month later tony montana attempt make amends meeting estranged family implied tony father former u navy sailor abandoned family tony little since mother miriam colon younger year old sister gina mary elizabeth mastrantonio living miami tony show mother gina house one evening fashionably dressed offer cash financial support gina overjoyed see older brother seen five year tony mother scorn since turned back many year ago quick easy life crime back cuba want nothing tony full pride accept money despite financially stricken gina idolizes brother follows outside slip money secretly gina tell tony want flashy life going tony love gina clearly genuine person trust also protective afterwords manny make comment tony attractive gina tony angrily warns avoid courting several month later tony sent bolivia help omar set new distribution deal bolivian kingpin alejandro sosa paul shenar since frank legal trouble preclude leaving country though tony supposed let omar talking omar prof poor negotiator prompting tony step save deal seem negotiate deal surface seems favorable side omar insists frank would approve sosa side omar suggests omar use phone call frank minute later sosa hand tony binoculars see two menacing assassin alberto shadow mark margolis skull geno silva execute omar hanging neck airborne helicopter sosa reveals alberto recognized omar informant police several year ago zero tolerance disloyalty tony insists never go back word never trusted omar sosa agrees bring tony board north american distributor cocaine drug upon agreement sosa sternly warns tony never betray double cross way upon return florida tony chewed frank overstepping authority well hearing omar death tony explains frank price million pay sosa manufacturing transportation cost receive kilogram cocaine bolivia nationwide sale distribution earn million period one year frank worried many million pay sosa cocaine tony say tight sosa established credit line well work payment plan pay sosa million front rest monthly installment plus case frank come short million tony earn money needed street contact frank angrily tell tony negotiate good deal sosa merely tricked thinking tony reply time think big expand cartel nationwide distribution cocaine main north american distributor wholesaler sosa cartel make million become biggest cartel continent frank warns tony sosa cannot trusted sooner later turn slight deviation compromise business frank order tony stall deal sosa time frank promptly tell tony ambitious drug dealer want much crave money power attention last long business tony leaf shrugging indifference strike note frank l pez two warning tony greed sosa violence later proven true incident tony seek elvira make unexpected marriage proposal shaken agrees think frank l pez none happy hears decides take tony babylon nightclub evening tony approached shaken miami police detective named mel bernstein harris yulin proposes tax tony transaction return police protection information tony distracted sight gina dancing local drug dealer follows two restroom stall berates gina promiscuous conduct asks manny take home way gina admits attracted manny manny ward mindful tony extreme protectiveness back nightclub tony attacked two gunman manages escape killing despite wounded gunshot left shoulder suspecting frank sent bernstein hitman tony asks one bodyguard nick pig call frank tony arrives frank office night inform hit failed tony manny chi chi visit frank car dealership back office det bernstein nick call frank confirms involvement playing call elvira telling late home becomes apparent bernstein armed help frank begs tony forgiveness saying elvira ten million dollar exchange sparing life tony none manny coldly executes frank bernstein insists could valuable ally tony tony disagrees kill problem apparently solved tony begin profitable relationship sosa marries elvira buy new mansion complete surveillance camera numerous luxury item tony even set gina business beauty salon manny gina soon begin romantic relationship keep secret tony firmly stated gina want dating anybody tony business grows cocaine addiction paranoia begin spiral control beginning end wife becomes addicted cocaine becomes bored emotionally distant tony banker informs laundering increasing flow drug money become increasingly difficult charging higher fee jewish mob bos mel seidelbaum ted beniades contact manny offering assistance however cleaning money seidelbaum reveals undercover cop arrest tony posting million bail tony corrupt lawyer sheffield tell although may get cleared corruption money laundering charge tony probably serve least three year prison tax evasion manny suggests take american prison system nowhere near harsh cuban counterpart right legal loophole could trim sentence six month however strung tony yell would rather die spend single day jail hearing tony arrest sosa wanting lose main distributor step intervene offering tony way going prison call tony back bolivia introduces cocaine board director group includes sugar baron bolivia military chief mysterious american named charles goodson gregg henry assume corrupt cia officer sosa guarantee irs able send tony jail help come price bolivian journalist attempting expose ongoing corruption bolivian government involvement drug trafficking crusade beginning hurt sosa partner sosa sending alberto new york assassinate journalist need tony crew provide extra muscle tony clearly disturbed assassination since custom kill man see civilian plus tony never killed anybody wrong personally seeing option tony reluctantly agrees help sosa hit meantime tony marriage elvira finally end bitter altercation local restaurant finally express contempt life led walk restaurant life tony punch drunk cocaine tell restaurant patron existence necessary since society need man like call criminal tony also informs manny look thing travel new york business tell sosa assassination deal tony henchman chi chi reuben alberto travel new york city alberto place bomb journalist car intention detonating outside un building journalist address general assembly expose sosa cartel tony second thought journalist unexpectedly pick wife child tony saying team supposed kill journalist shoot alberto prevent journalist family killed authority later discover unexploded bomb underneath journalist car realize execution planned increase amount security protecting journalist sosa primary suspect sosa vow get even tony returning miami tony discovers gina manny opposed trip new york disappeared tony long harbored apparent unnatural obsession sister overly protective reason may understand tony visit mother angrily tell gina descent immoral life accuses corrupting flashy lifestyle getting gina home address mr montana know else life tony go house nearby palm grove much tony surprise manny unexpectedly open door bathrobe tony see gina night gown top stair enraged another man obviously slept sister tony shoot manny dead hysterical gina reveals tony married going surprise tony riddled guilt gina taken back mansion revenge tony failure kill journalist exposed sosa partner world drug lord sosa sends latino mercenary hit squad size large platoon tony mansion kill evening sitting desk snorting enormous pile cocaine tony realizes regret done best friend tony contemplating action sosa mercenary breach main gate tony estate quietly begin kill guard around mansion time distraught gina wearing unbuttoned sleep shirt armed revolver enters tony office confront truth feeling realizes tony love unnatural way demand gunpoint make love begin shoot demanding take sosa assassin hiding balcony thinking gina shooting leap riddle bullet enraged tony throw man balcony kill sub machine gun creating storm chaos mansion point mercenary robbed element surprise gunshot swarm attack tony mansion direction men killed tony still delirious cocaine lean gina dead body begging forgiveness time mercs break mansion chi chi open fire uzi fall back end banging door tony office locked inside gina planning kill tony unfortunately tony seem hear chi chi shot back tony see security camera hit men prepare storm office tony finally snap drug induced state arm ar assault rifle mounted grenade launcher blow door huge climatic gun battle begin tony take position atop grand staircase gun dozen sosa men try storm balcony tony hit number time return fire keep shooting sosa men dead tony strung drug defiantly yell assassin realizing skull sneaked room behind skull shoot tony back gauge shotgun tony fall balcony reflecting pool base grand staircase final shot skull surviving assassin look tony montana lie dead face reflecting pool located large brass globe say world']\n"
          ]
        }
      ],
      "source": [
        "import pickle\n",
        "\n",
        "# Load the corpus using pickle\n",
        "try:\n",
        "    with open('/content/drive/MyDrive/DATA/corpusl.pkl', 'rb') as file:\n",
        "        corpus = pickle.load(file)\n",
        "    print(\"Pickle file loaded successfully.\")\n",
        "\n",
        "    # Now you can use the 'corpus' variable for further processing\n",
        "    # Example: print the first few elements in the corpus\n",
        "    print(\"First few elements in the loaded corpus:\")\n",
        "    print(corpus[:5])\n",
        "\n",
        "except pickle.UnpicklingError as e:\n",
        "    print(f\"Error while loading pickle file: {e}\")\n"
      ]
    },
    {
      "cell_type": "code",
      "execution_count": 12,
      "metadata": {
        "colab": {
          "base_uri": "https://localhost:8080/"
        },
        "id": "D-MG5vgiDsjz",
        "outputId": "044027eb-7ba1-4323-ebd4-99a4a5c5c3fe"
      },
      "outputs": [
        {
          "output_type": "execute_result",
          "data": {
            "text/plain": [
              "14828"
            ]
          },
          "metadata": {},
          "execution_count": 12
        }
      ],
      "source": [
        "len(corpus)"
      ]
    },
    {
      "cell_type": "markdown",
      "metadata": {
        "id": "jdKL3jzXGHfH"
      },
      "source": [
        "# Word Embedding Methods: BoW, TF-IDF, and CBOW\n",
        "\n",
        "Having preprocessed the text data, the next step is to transform the processed sentences into word embeddings. Word embeddings capture semantic relationships between words and are essential for various natural language processing tasks.\n"
      ]
    },
    {
      "cell_type": "markdown",
      "metadata": {
        "id": "buJX52jqHsx9"
      },
      "source": [
        "## Bag of Words (BoW)\n",
        "\n",
        "The Bag of Words (BoW) method represents each document as a vector, where each element corresponds to the frequency of a word in the document. This approach disregards word order but captures the overall word occurrences.\n"
      ]
    },
    {
      "cell_type": "code",
      "execution_count": null,
      "metadata": {
        "id": "fdOAQ2zjD2lO"
      },
      "outputs": [],
      "source": [
        "# Creating the Bag of Words model\n",
        "from sklearn.feature_extraction.text import CountVectorizer\n",
        "cv = CountVectorizer(max_features=5000)\n",
        "X = cv.fit_transform(corpus).toarray()"
      ]
    },
    {
      "cell_type": "code",
      "execution_count": null,
      "metadata": {
        "colab": {
          "base_uri": "https://localhost:8080/"
        },
        "id": "fCrvvxriJGTg",
        "outputId": "e4f0cabd-4462-447c-a6db-b6389bf76cc8"
      },
      "outputs": [
        {
          "output_type": "execute_result",
          "data": {
            "text/plain": [
              "(14828, 5000)"
            ]
          },
          "metadata": {},
          "execution_count": 40
        }
      ],
      "source": [
        "X.shape"
      ]
    },
    {
      "cell_type": "markdown",
      "metadata": {
        "id": "5t3jGn-AEpuh"
      },
      "source": [
        "#Calculate Cosine Similarity Matrix:\n",
        "The code calculates the cosine similarity matrix for a set of movie descriptions. Cosine similarity measures the cosine of the angle between two vectors and is commonly used to determine the similarity between documents. In this context, the matrix quantifies the similarity between each pair of movies based on their Bag of Words representations. Higher values indicate greater similarity, aiding in identifying related movies within the dataset."
      ]
    },
    {
      "cell_type": "code",
      "execution_count": null,
      "metadata": {
        "id": "Yp_oeFDr58a_"
      },
      "outputs": [],
      "source": [
        "from sklearn.metrics.pairwise import cosine_similarity\n",
        "similarity = cosine_similarity(X)"
      ]
    },
    {
      "cell_type": "code",
      "execution_count": null,
      "metadata": {
        "colab": {
          "base_uri": "https://localhost:8080/"
        },
        "id": "NqUiTzfO6HT5",
        "outputId": "43c1a1fb-b8f0-48ef-f902-76c407130ffc"
      },
      "outputs": [
        {
          "output_type": "execute_result",
          "data": {
            "text/plain": [
              "array([[1.        , 0.05818251, 0.12387712, ..., 0.07777963, 0.19191451,\n",
              "        0.29370168],\n",
              "       [0.05818251, 1.        , 0.06816879, ..., 0.02590625, 0.08401325,\n",
              "        0.06791239],\n",
              "       [0.12387712, 0.06816879, 1.        , ..., 0.04946174, 0.06303557,\n",
              "        0.16560379],\n",
              "       ...,\n",
              "       [0.07777963, 0.02590625, 0.04946174, ..., 1.        , 0.03764431,\n",
              "        0.04702803],\n",
              "       [0.19191451, 0.08401325, 0.06303557, ..., 0.03764431, 1.        ,\n",
              "        0.1416507 ],\n",
              "       [0.29370168, 0.06791239, 0.16560379, ..., 0.04702803, 0.1416507 ,\n",
              "        1.        ]])"
            ]
          },
          "metadata": {},
          "execution_count": 42
        }
      ],
      "source": [
        "similarity"
      ]
    },
    {
      "cell_type": "code",
      "execution_count": null,
      "metadata": {
        "colab": {
          "base_uri": "https://localhost:8080/"
        },
        "id": "wIu4NbfYByb1",
        "outputId": "52677a78-447b-4cbd-c3f4-5a792779e838"
      },
      "outputs": [
        {
          "output_type": "execute_result",
          "data": {
            "text/plain": [
              "4"
            ]
          },
          "metadata": {},
          "execution_count": 43
        }
      ],
      "source": [
        "df1[df1['title'] == \"Scarface\"].index[0]"
      ]
    },
    {
      "cell_type": "markdown",
      "metadata": {
        "id": "buVTszU3Ejmi"
      },
      "source": [
        "# Recommendation function with similarity percentages"
      ]
    },
    {
      "cell_type": "code",
      "execution_count": null,
      "metadata": {
        "id": "uRLWXzomCz6h"
      },
      "outputs": [],
      "source": [
        "import matplotlib.pyplot as plt\n",
        "\n",
        "def recommend(movie, similarity_matrix=similarity, threshold=0.2):\n",
        "    index = df1[df1['title'] == movie].index[0]\n",
        "    distances = sorted(enumerate(similarity_matrix[index]), reverse=True, key=lambda x: x[1])\n",
        "\n",
        "    recommended_movies = []\n",
        "    similarity_percentages = []\n",
        "\n",
        "    for i, distance in distances[1:6]:\n",
        "        title = df1.iloc[i].title\n",
        "        similarity_percentage = round((distance) * 100, 2)\n",
        "\n",
        "        # Exclude the same movie as the input\n",
        "        if i != index:\n",
        "            recommended_movies.append(title)\n",
        "            similarity_percentages.append(similarity_percentage)\n",
        "\n",
        "            # Print only if the recommended movie has a different ID than the input\n",
        "            print(f\"{title}: Similarity {similarity_percentage}%\" if i != index else \"\")\n",
        "\n",
        "    # Plot histogram\n",
        "    plt.figure(figsize=(10, 6))\n",
        "    plt.bar(recommended_movies, similarity_percentages, color='skyblue')\n",
        "    plt.xlabel('Recommended Movies')\n",
        "    plt.ylabel('Similarity Percentage')\n",
        "    plt.title(f'Similarity Percentage for Movies Similar to {movie}')\n",
        "    plt.ylim([0, 100])\n",
        "    plt.show()\n",
        "\n",
        "\n",
        "\n",
        "\n"
      ]
    },
    {
      "cell_type": "code",
      "execution_count": null,
      "metadata": {
        "colab": {
          "base_uri": "https://localhost:8080/",
          "height": 651
        },
        "id": "_mxx6X6JDGf7",
        "outputId": "7798efce-0c59-40b2-ea72-c952ee8be906"
      },
      "outputs": [
        {
          "output_type": "stream",
          "name": "stdout",
          "text": [
            "Iron Man: Similarity 79.15%\n",
            "Iron Man Three: Similarity 74.58%\n",
            "Scarface: Similarity 60.47%\n",
            "Iron Man 2: Similarity 60.21%\n",
            "Scarface: The World Is Yours: Similarity 58.24%\n"
          ]
        },
        {
          "output_type": "display_data",
          "data": {
            "text/plain": [
              "<Figure size 1000x600 with 1 Axes>"
            ],
            "image/png": "[encoded data removed]"
          },
          "metadata": {}
        }
      ],
      "source": [
        "recommend(\"Iron Man 2\")"
      ]
    },
    {
      "cell_type": "markdown",
      "metadata": {
        "id": "uQt1nFkfJQFD"
      },
      "source": [
        "# TF-IDF (Term Frequency-Inverse Document Frequency)\n",
        "\n",
        "TF-IDF is a powerful word embedding technique that takes into account both the frequency of a word in a document and its importance across the entire corpus. Let's implement TF-IDF transformation on the processed corpus.\n"
      ]
    },
    {
      "cell_type": "code",
      "execution_count": null,
      "metadata": {
        "id": "FfV_bKUWKk9O"
      },
      "outputs": [],
      "source": [
        "# Creating the TFIDF model\n",
        "from sklearn.feature_extraction.text import TfidfVectorizer\n",
        "tv = TfidfVectorizer(max_features=5000)\n",
        "X2 = tv.fit_transform(corpus).toarray()"
      ]
    },
    {
      "cell_type": "code",
      "execution_count": null,
      "metadata": {
        "colab": {
          "base_uri": "https://localhost:8080/"
        },
        "id": "AVRfmJJIKuPv",
        "outputId": "64c0fd91-176b-447f-b9db-c1368108b07a"
      },
      "outputs": [
        {
          "output_type": "execute_result",
          "data": {
            "text/plain": [
              "(14828, 5000)"
            ]
          },
          "metadata": {},
          "execution_count": 55
        }
      ],
      "source": [
        "X2.shape"
      ]
    },
    {
      "cell_type": "markdown",
      "metadata": {
        "id": "21d-mEXfFntk"
      },
      "source": [
        "#Calculate Cosine Similarity Matrix:\n",
        "The code calculates the cosine similarity matrix for a set of movie descriptions. Cosine similarity measures the cosine of the angle between two vectors and is commonly used to determine the similarity between documents. In this context, the matrix quantifies the similarity between each pair of movies based on their TF-IDF representations. Higher values indicate greater similarity, aiding in identifying related movies within the dataset."
      ]
    },
    {
      "cell_type": "code",
      "execution_count": null,
      "metadata": {
        "id": "DZKEhpsWGH1Z"
      },
      "outputs": [],
      "source": [
        "from sklearn.metrics.pairwise import cosine_similarity\n",
        "similarity2 = cosine_similarity(X2)\n"
      ]
    },
    {
      "cell_type": "code",
      "execution_count": null,
      "metadata": {
        "colab": {
          "base_uri": "https://localhost:8080/"
        },
        "id": "vzZ9Ge8AGdXu",
        "outputId": "e01bb86a-4af6-47dc-8118-ada3ee28ac2e"
      },
      "outputs": [
        {
          "output_type": "execute_result",
          "data": {
            "text/plain": [
              "array([[1.        , 0.03198203, 0.04940285, ..., 0.03292722, 0.09899998,\n",
              "        0.11568013],\n",
              "       [0.03198203, 1.        , 0.04683648, ..., 0.01270749, 0.04124161,\n",
              "        0.02946268],\n",
              "       [0.04940285, 0.04683648, 1.        , ..., 0.019406  , 0.02497999,\n",
              "        0.05447553],\n",
              "       ...,\n",
              "       [0.03292722, 0.01270749, 0.019406  , ..., 1.        , 0.01884812,\n",
              "        0.01597356],\n",
              "       [0.09899998, 0.04124161, 0.02497999, ..., 0.01884812, 1.        ,\n",
              "        0.06462349],\n",
              "       [0.11568013, 0.02946268, 0.05447553, ..., 0.01597356, 0.06462349,\n",
              "        1.        ]])"
            ]
          },
          "metadata": {},
          "execution_count": 57
        }
      ],
      "source": [
        "similarity2"
      ]
    },
    {
      "cell_type": "markdown",
      "source": [
        "# Recommendation function with similarity percentages"
      ],
      "metadata": {
        "id": "g8aWVI0Hgnd4"
      }
    },
    {
      "cell_type": "code",
      "execution_count": null,
      "metadata": {
        "id": "rlVIQKRZGfqe"
      },
      "outputs": [],
      "source": [
        "import matplotlib.pyplot as plt\n",
        "\n",
        "def recommend(movie, similarity_matrix=similarity2):\n",
        "    index = df1[df1['title'] == movie].index[0]\n",
        "    distances = sorted(enumerate(similarity_matrix[index]), reverse=True, key=lambda x: x[1])\n",
        "\n",
        "    recommended_movies = []\n",
        "    similarity_percentages = []\n",
        "\n",
        "    for i, distance in distances[1:6]:\n",
        "        title = df1.iloc[i].title\n",
        "        similarity_percentage = round((distance) * 100, 2)\n",
        "\n",
        "        # Exclude the same movie as the input\n",
        "        if i != index:\n",
        "            recommended_movies.append(title)\n",
        "            similarity_percentages.append(similarity_percentage)\n",
        "\n",
        "            # Print only if the recommended movie has a different ID than the input\n",
        "            print(f\"{title}: Similarity {similarity_percentage}%\" if i != index else \"\")\n",
        "\n",
        "    # Plot histogram\n",
        "    plt.figure(figsize=(10, 6))\n",
        "    plt.bar(recommended_movies, similarity_percentages, color='skyblue')\n",
        "    plt.xlabel('Recommended Movies')\n",
        "    plt.ylabel('Similarity Percentage')\n",
        "    plt.title(f'Similarity Percentage for Movies Similar to {movie}')\n",
        "    plt.ylim([0, 100])\n",
        "    plt.show()\n",
        "\n"
      ]
    },
    {
      "cell_type": "code",
      "execution_count": null,
      "metadata": {
        "colab": {
          "base_uri": "https://localhost:8080/",
          "height": 651
        },
        "id": "tjvUcC6ZHB0j",
        "outputId": "5fce5bd6-1b8a-40b8-cd85-4620f9e81442"
      },
      "outputs": [
        {
          "output_type": "stream",
          "name": "stdout",
          "text": [
            "Iron Man: Similarity 80.25%\n",
            "Iron Man Three: Similarity 71.51%\n",
            "Iron Man 2: Similarity 67.95%\n",
            "Iron Man: Similarity 61.91%\n",
            "Scarface: The World Is Yours: Similarity 54.29%\n"
          ]
        },
        {
          "output_type": "display_data",
          "data": {
            "text/plain": [
              "<Figure size 1000x600 with 1 Axes>"
            ],
            "image/png": "[encoded data removed]"
          },
          "metadata": {}
        }
      ],
      "source": [
        "recommend(\"Iron Man 2\")"
      ]
    },
    {
      "cell_type": "markdown",
      "metadata": {
        "id": "GIq9uGUDKz6f"
      },
      "source": [
        " # Continuous Bag of Words (CBOW)\n",
        "\n",
        "CBOW is a neural network-based word embedding method that learns to predict a target word given its context words. Let's create a simple CBOW model using TensorFlow and Keras.\n"
      ]
    },
    {
      "cell_type": "code",
      "execution_count": null,
      "metadata": {
        "colab": {
          "base_uri": "https://localhost:8080/"
        },
        "id": "A41MGECZLBad",
        "outputId": "d057b693-a817-44b7-a3fe-a5e1823722c5"
      },
      "outputs": [
        {
          "output_type": "stream",
          "name": "stdout",
          "text": [
            "Requirement already satisfied: gensim in /usr/local/lib/python3.10/dist-packages (4.3.2)\n",
            "Requirement already satisfied: numpy>=1.18.5 in /usr/local/lib/python3.10/dist-packages (from gensim) (1.23.5)\n",
            "Requirement already satisfied: scipy>=1.7.0 in /usr/local/lib/python3.10/dist-packages (from gensim) (1.11.4)\n",
            "Requirement already satisfied: smart-open>=1.8.1 in /usr/local/lib/python3.10/dist-packages (from gensim) (6.4.0)\n"
          ]
        }
      ],
      "source": [
        "!pip install gensim"
      ]
    },
    {
      "cell_type": "markdown",
      "source": [
        "The code snippet above demonstrates how to load the pre-trained Word2Vec model from Google News using Gensim's gensim.downloader module. After loading the model, it selects a sample word, in this case, 'king'. The vector representation for this word is then retrieved using the get_vector method. The resulting vector is a 300-dimensional representation capturing the semantic meaning of the word in the context of the pre-trained model.\n",
        "\n",
        "Feel free to replace 'hero' with other words to explore their vector representations. These vectors can be useful for various natural language processing tasks, such as measuring similarity between words, finding analogies, or as input features for machine learning models."
      ],
      "metadata": {
        "id": "YNxgHOWJg4b5"
      }
    },
    {
      "cell_type": "code",
      "execution_count": null,
      "metadata": {
        "colab": {
          "base_uri": "https://localhost:8080/"
        },
        "id": "PQZ-uAJVLF5W",
        "outputId": "51705958-2612-4bfd-99d0-e91f5b7d8c05"
      },
      "outputs": [
        {
          "name": "stdout",
          "output_type": "stream",
          "text": [
            "[==================================================] 100.0% 1662.8/1662.8MB downloaded\n"
          ]
        }
      ],
      "source": [
        "import gensim.downloader as api\n",
        "\n",
        "wv = api.load('word2vec-google-news-300')"
      ]
    },
    {
      "cell_type": "code",
      "execution_count": null,
      "metadata": {
        "id": "XAUpOkxMLNs7"
      },
      "outputs": [],
      "source": [
        "vec_hero = wv['hero']"
      ]
    },
    {
      "cell_type": "code",
      "execution_count": null,
      "metadata": {
        "colab": {
          "base_uri": "https://localhost:8080/"
        },
        "id": "4WvVcgbdPQIG",
        "outputId": "f14efcc0-3cbf-4e2f-9c14-cd94720019fa"
      },
      "outputs": [
        {
          "data": {
            "text/plain": [
              "array([ 0.38085938,  0.16113281,  0.22558594,  0.18457031,  0.14648438,\n",
              "        0.06933594,  0.06933594, -0.12109375,  0.17480469,  0.01190186,\n",
              "        0.06494141, -0.22558594,  0.11230469,  0.04077148, -0.15820312,\n",
              "        0.4375    ,  0.08642578,  0.06835938,  0.20410156, -0.13574219,\n",
              "        0.03833008,  0.22363281,  0.13964844, -0.19628906, -0.03295898,\n",
              "       -0.13183594,  0.05957031,  0.03491211,  0.29492188, -0.20898438,\n",
              "        0.3359375 , -0.11474609,  0.09082031,  0.21386719,  0.06054688,\n",
              "       -0.10791016,  0.2734375 ,  0.28125   ,  0.07128906,  0.2421875 ,\n",
              "        0.26171875, -0.34179688,  0.27148438,  0.15820312,  0.15332031,\n",
              "       -0.06591797, -0.21679688,  0.07177734,  0.29492188, -0.11523438,\n",
              "       -0.3359375 ,  0.25976562,  0.00842285, -0.08007812, -0.00306702,\n",
              "       -0.3046875 , -0.16308594,  0.02319336, -0.20507812, -0.02734375,\n",
              "       -0.08105469,  0.37890625, -0.10498047, -0.3828125 , -0.08691406,\n",
              "        0.06542969, -0.04931641, -0.13867188, -0.07666016,  0.20996094,\n",
              "       -0.05444336, -0.04174805, -0.25585938, -0.15332031, -0.30664062,\n",
              "       -0.24707031,  0.125     ,  0.10839844,  0.26953125, -0.203125  ,\n",
              "        0.10595703,  0.55859375,  0.16308594, -0.14160156,  0.18554688,\n",
              "        0.12353516, -0.22070312, -0.15039062,  0.20410156, -0.08203125,\n",
              "        0.05273438,  0.04345703, -0.05957031,  0.01397705,  0.16796875,\n",
              "       -0.09960938, -0.10546875,  0.09716797, -0.06884766, -0.40625   ,\n",
              "        0.09570312,  0.18359375,  0.40820312, -0.18457031, -0.09130859,\n",
              "        0.07519531, -0.0402832 , -0.07958984, -0.0201416 , -0.07861328,\n",
              "        0.28515625,  0.20214844, -0.11132812, -0.12451172, -0.04614258,\n",
              "        0.04467773, -0.35546875,  0.08007812,  0.05981445,  0.04541016,\n",
              "        0.17871094, -0.08349609, -0.08886719, -0.21582031,  0.07617188,\n",
              "       -0.10986328,  0.11572266,  0.18652344, -0.19238281, -0.16894531,\n",
              "       -0.18457031, -0.18066406,  0.0559082 ,  0.09277344,  0.03369141,\n",
              "       -0.02746582, -0.171875  ,  0.09228516,  0.06347656,  0.18164062,\n",
              "        0.01245117,  0.17285156,  0.19726562,  0.12011719, -0.00354004,\n",
              "       -0.12792969, -0.03442383,  0.05175781, -0.16210938, -0.11865234,\n",
              "        0.0177002 ,  0.0324707 , -0.1796875 ,  0.25390625, -0.19140625,\n",
              "       -0.27148438, -0.05249023, -0.19140625,  0.13671875, -0.48046875,\n",
              "        0.15917969, -0.05541992,  0.41015625, -0.00196838, -0.45898438,\n",
              "       -0.3046875 ,  0.18652344,  0.07226562,  0.01879883,  0.38085938,\n",
              "        0.19628906,  0.05078125,  0.01745605, -0.22558594,  0.02246094,\n",
              "        0.07568359, -0.06640625, -0.11328125, -0.07861328, -0.07275391,\n",
              "        0.06103516, -0.62109375, -0.07568359,  0.03979492, -0.03979492,\n",
              "       -0.16113281,  0.02783203,  0.26171875,  0.11425781,  0.07714844,\n",
              "       -0.1484375 ,  0.01940918,  0.15625   ,  0.15429688,  0.17089844,\n",
              "       -0.10546875,  0.0123291 ,  0.06640625, -0.2734375 ,  0.11328125,\n",
              "        0.00104523, -0.06933594,  0.07373047, -0.34765625,  0.22265625,\n",
              "       -0.06152344, -0.21289062, -0.06396484, -0.21582031, -0.15234375,\n",
              "       -0.10791016,  0.20898438,  0.05688477, -0.01879883, -0.33007812,\n",
              "        0.03344727, -0.06079102, -0.24609375, -0.24414062, -0.08740234,\n",
              "        0.04785156, -0.03515625,  0.20605469, -0.06884766,  0.20996094,\n",
              "        0.37109375, -0.12988281, -0.16210938,  0.08105469, -0.16796875,\n",
              "       -0.02294922,  0.05493164, -0.23730469, -0.07861328,  0.19335938,\n",
              "       -0.10498047, -0.09277344,  0.0480957 ,  0.05664062, -0.06689453,\n",
              "       -0.04003906, -0.2578125 , -0.08398438,  0.32226562, -0.00588989,\n",
              "        0.2578125 ,  0.06176758,  0.08398438,  0.1953125 , -0.24609375,\n",
              "        0.07958984,  0.09912109,  0.23144531,  0.10351562,  0.08544922,\n",
              "        0.12255859,  0.07373047, -0.11132812, -0.30859375, -0.171875  ,\n",
              "       -0.06347656, -0.02404785, -0.02209473, -0.0534668 ,  0.3671875 ,\n",
              "        0.09375   ,  0.34960938,  0.06542969,  0.02026367,  0.10742188,\n",
              "       -0.02001953,  0.03222656,  0.05322266, -0.16796875, -0.07324219,\n",
              "       -0.00848389,  0.0045166 ,  0.12988281, -0.09130859,  0.02246094,\n",
              "        0.26757812, -0.13671875, -0.05737305,  0.0546875 , -0.09228516,\n",
              "        0.08740234, -0.29492188,  0.03735352, -0.1171875 , -0.02050781,\n",
              "        0.09619141, -0.28515625, -0.17675781, -0.19140625,  0.01013184,\n",
              "       -0.18261719,  0.02563477, -0.12695312,  0.06445312,  0.13378906],\n",
              "      dtype=float32)"
            ]
          },
          "execution_count": 29,
          "metadata": {},
          "output_type": "execute_result"
        }
      ],
      "source": [
        "vec_hero"
      ]
    },
    {
      "cell_type": "markdown",
      "source": [
        "# Train Word2Vec Model from Scratch\n",
        "\n",
        "In this section, we embark on the journey of training a Word2Vec model from scratch using your own corpus of text data. Word2Vec models capture semantic relationships between words by learning distributed representations, also known as word embeddings. This hands-on exercise will enable you to tailor the model to the specific characteristics of your dataset, offering personalized word embeddings for improved understanding and context-awareness. Let's delve into the process of constructing meaningful word vectors from your unique text corpus."
      ],
      "metadata": {
        "id": "n6eQbxF5hord"
      }
    },
    {
      "cell_type": "code",
      "execution_count": 13,
      "metadata": {
        "colab": {
          "base_uri": "https://localhost:8080/"
        },
        "id": "SoQU5nS9QJAw",
        "outputId": "df576406-afa4-44ed-c29e-e98a86833816"
      },
      "outputs": [
        {
          "output_type": "stream",
          "name": "stdout",
          "text": [
            "Requirement already satisfied: gensim in /usr/local/lib/python3.10/dist-packages (4.3.2)\n",
            "Requirement already satisfied: numpy>=1.18.5 in /usr/local/lib/python3.10/dist-packages (from gensim) (1.23.5)\n",
            "Requirement already satisfied: scipy>=1.7.0 in /usr/local/lib/python3.10/dist-packages (from gensim) (1.11.4)\n",
            "Requirement already satisfied: smart-open>=1.8.1 in /usr/local/lib/python3.10/dist-packages (from gensim) (6.4.0)\n"
          ]
        },
        {
          "output_type": "stream",
          "name": "stderr",
          "text": [
            "[nltk_data] Downloading package punkt to /root/nltk_data...\n",
            "[nltk_data]   Unzipping tokenizers/punkt.zip.\n"
          ]
        },
        {
          "output_type": "execute_result",
          "data": {
            "text/plain": [
              "True"
            ]
          },
          "metadata": {},
          "execution_count": 13
        }
      ],
      "source": [
        "!pip install gensim\n",
        "\n",
        "import gensim\n",
        "from gensim.models import Word2Vec\n",
        "from nltk.tokenize import word_tokenize\n",
        "from nltk.corpus import stopwords\n",
        "import nltk\n",
        "import numpy as np\n",
        "nltk.download('punkt')"
      ]
    },
    {
      "cell_type": "code",
      "execution_count": 28,
      "metadata": {
        "id": "4QIb3kBrNwy0"
      },
      "outputs": [],
      "source": [
        "# Tokenize and remove stopwords\n",
        "stop_words = set(stopwords.words('english'))\n",
        "tokenized_corpus = [word_tokenize(sentence.lower()) for sentence in corpus]\n",
        "filtered_corpus = [[word for word in tokens if word not in stop_words] for tokens in tokenized_corpus]"
      ]
    },
    {
      "cell_type": "markdown",
      "source": [
        "# Model Training"
      ],
      "metadata": {
        "id": "PLO4hq-vhzrk"
      }
    },
    {
      "cell_type": "code",
      "execution_count": 29,
      "metadata": {
        "id": "PTm22O3vSWsx"
      },
      "outputs": [],
      "source": [
        "# Train Word2Vec model with control over epochs\n",
        "epochs = 50  # Set the number of epochs as needed\n",
        "model = Word2Vec(sentences=filtered_corpus, vector_size=100, window=5, min_count=1, epochs=epochs)\n",
        "\n",
        "# Save the trained model to a file\n",
        "model.save(\"word2vec.model\")"
      ]
    },
    {
      "cell_type": "markdown",
      "source": [
        "# load model without training"
      ],
      "metadata": {
        "id": "YMZ9_Yfeh5NV"
      }
    },
    {
      "cell_type": "code",
      "execution_count": 30,
      "metadata": {
        "id": "wvhUgrs4TJys"
      },
      "outputs": [],
      "source": [
        "model = Word2Vec.load(\"word2vec.model\")"
      ]
    },
    {
      "cell_type": "markdown",
      "source": [
        "# Leveraging Average Word2Vec for Context-Aware Movie Representations\n",
        "\n",
        "##Reducing Dimensionality:\n",
        "\n",
        "Challenge: Word vectors typically have a high dimensionality, especially in models like Word2Vec.\n",
        "Solution: By averaging, we effectively reduce the dimensionality of the representation while retaining meaningful information. This can be crucial when working with machine learning models that might struggle with high-dimensional input.\n",
        "\n",
        "##Handling Out-of-Vocabulary Words:\n",
        "\n",
        "Challenge: In real-world applications, there might be out-of-vocabulary words that the Word2Vec model hasn't seen during training.\n",
        "Solution: Averaging allows us to still generate a meaningful representation even when some words are missing from the model's vocabulary.\n",
        "\n",
        "##Interpretable Document Representations:\n",
        "\n",
        "Challenge: Obtaining interpretable and meaningful representations for documents is essential, especially in tasks like document similarity or classification.\n",
        "Solution: The average Word2Vec technique provides a single, interpretable vector that summarizes the content of the entire document, facilitating downstream tasks."
      ],
      "metadata": {
        "id": "gdilBFmxiJaK"
      }
    },
    {
      "cell_type": "code",
      "execution_count": 31,
      "metadata": {
        "id": "3A-iXJ35Q78A"
      },
      "outputs": [],
      "source": [
        "# Function to calculate the average Word2Vec for a sentence\n",
        "def avg_word2vec(tokens, model, num_features):\n",
        "    feature_vector = np.zeros((num_features,), dtype=\"float32\")\n",
        "    num_words = 0\n",
        "\n",
        "    for word in tokens:\n",
        "        if word in model.wv.index_to_key:\n",
        "            num_words += 1\n",
        "            feature_vector = np.add(feature_vector, model.wv[word])\n",
        "\n",
        "    if num_words > 0:\n",
        "        feature_vector = np.divide(feature_vector, num_words)\n",
        "\n",
        "    return feature_vector"
      ]
    },
    {
      "cell_type": "code",
      "execution_count": null,
      "metadata": {
        "id": "CuGpLekFRAZP"
      },
      "outputs": [],
      "source": [
        "# Calculate average Word2Vec vectors for each movie\n",
        "movie_vectors = []\n",
        "for tokens in filtered_corpus:\n",
        "    vector = avg_word2vec(tokens, model, num_features=100)\n",
        "    movie_vectors.append(vector)\n"
      ]
    },
    {
      "cell_type": "code",
      "execution_count": 39,
      "metadata": {
        "id": "8XW2KirsREkv"
      },
      "outputs": [],
      "source": [
        "movie_vectors=np.array(movie_vectors)"
      ]
    },
    {
      "cell_type": "code",
      "source": [
        "movie_vectors.shape"
      ],
      "metadata": {
        "colab": {
          "base_uri": "https://localhost:8080/"
        },
        "id": "bJJ0JPf7Zvww",
        "outputId": "a29c369a-d236-41e8-ccfa-9e97dc5ecb06"
      },
      "execution_count": 40,
      "outputs": [
        {
          "output_type": "execute_result",
          "data": {
            "text/plain": [
              "(14828, 100)"
            ]
          },
          "metadata": {},
          "execution_count": 40
        }
      ]
    },
    {
      "cell_type": "code",
      "source": [
        "# Save movie vectors to a pickle file\n",
        "with open('movie_vectors.pkl', 'wb') as file:\n",
        "      pickle.dump(movie_vectors, file)"
      ],
      "metadata": {
        "id": "yz9dFv8Roqtx"
      },
      "execution_count": null,
      "outputs": []
    },
    {
      "cell_type": "markdown",
      "source": [
        "if we want we can directly load the movie_vectors because it took some more time to create"
      ],
      "metadata": {
        "id": "3GqPAY_FpO2F"
      }
    },
    {
      "cell_type": "code",
      "source": [
        "import pickle\n",
        "\n",
        "# Load the corpus using pickle\n",
        "try:\n",
        "    with open('movie_vectors.pkl', 'rb') as file:\n",
        "         movie_vectors= pickle.load(file)\n",
        "    print(\"Pickle file loaded successfully.\")\n",
        "\n",
        "    # Now you can use the 'corpus' variable for further processing\n",
        "    # Example: print the first few elements in the corpus\n",
        "    print(\"First few elements in the loaded corpus:\")\n",
        "    print(corpus[:5])\n",
        "\n",
        "except pickle.UnpicklingError as e:\n",
        "    print(f\"Error while loading pickle file: {e}\")"
      ],
      "metadata": {
        "colab": {
          "base_uri": "https://localhost:8080/"
        },
        "id": "z3Wdj7ldpY_8",
        "outputId": "6069066a-dc06-4dba-e091-692841422524"
      },
      "execution_count": 35,
      "outputs": [
        {
          "output_type": "stream",
          "name": "stdout",
          "text": [
            "Pickle file loaded successfully.\n",
            "First few elements in the loaded corpus:\n",
            "[[ 4.37387198e-01 -6.77653372e-01  1.75159588e-01  1.34713322e-01\n",
            "   3.45638871e-01  6.21617325e-02  3.91836047e-01 -1.04803574e+00\n",
            "   6.01054132e-01  1.86131626e-01 -2.78379500e-01 -2.21624225e-01\n",
            "   1.92841571e-02  3.70306253e-01 -4.88907874e-01  5.57804108e-01\n",
            "  -5.18573523e-02  1.19262382e-01  1.12076774e-01  5.41691363e-01\n",
            "   3.42899829e-01  2.47296065e-01 -4.59117472e-01  3.33193183e-01\n",
            "  -3.22839152e-03  6.84997797e-01 -8.86197165e-02 -1.44820005e-01\n",
            "   3.21513824e-02 -1.77385196e-01  1.73748583e-01 -4.68211770e-02\n",
            "  -3.32042426e-01 -1.42852187e-01  1.73764303e-01  4.62980479e-01\n",
            "  -4.05476689e-02  2.01344315e-04  5.24468958e-01 -3.91534954e-01\n",
            "   1.98389947e-01  2.57355541e-01  4.74584162e-01  1.24535911e-01\n",
            "  -2.76145041e-01  3.62784266e-01 -4.94242013e-01  1.79632485e-01\n",
            "  -3.29821587e-01 -7.88830072e-02  2.86765862e-02  5.99193871e-01\n",
            "   2.77271289e-02  5.72204702e-02 -7.15087801e-02 -6.21508388e-03\n",
            "  -2.72622734e-01  1.14389218e-01 -2.20197123e-02  1.46237716e-01\n",
            "  -4.35059249e-01 -2.60603298e-02 -1.71540573e-01  1.18181877e-01\n",
            "   2.62120366e-01  1.55533537e-01 -1.67117953e-01 -3.72797042e-01\n",
            "   1.81839302e-01  4.15869147e-01  7.91961029e-02  6.25027949e-03\n",
            "  -5.22618771e-01 -1.65019557e-01  6.19436130e-02 -4.03065562e-01\n",
            "  -9.12362814e-01 -2.19171092e-01  1.62536845e-01  1.30485311e-01\n",
            "  -9.32577476e-02 -9.84766558e-02 -4.70565772e-03 -5.91399491e-01\n",
            "  -1.41183108e-01  1.90062061e-01  3.97473872e-01 -3.01496744e-01\n",
            "   2.75646001e-01  1.57718673e-01 -5.26456237e-01  2.65763015e-01\n",
            "  -4.13665384e-01  6.48721531e-02 -2.11176667e-02  5.52805364e-02\n",
            "  -2.59951856e-02  9.69666466e-02 -4.60223198e-01  1.34243697e-01]\n",
            " [-1.00702636e-01  1.66435227e-01  5.22565246e-01 -4.26132470e-01\n",
            "  -1.83619529e-01 -1.37901343e-02 -7.88200721e-02 -5.74948013e-01\n",
            "   3.14652979e-01  4.10429001e-01 -3.53902578e-01 -1.17202663e+00\n",
            "   4.11462873e-01 -1.54539675e-01  1.68551996e-01 -1.61671527e-02\n",
            "  -8.97122741e-01 -3.81983407e-02 -1.62449423e-02 -4.32216614e-01\n",
            "  -1.18940966e-02  1.64113194e-01 -1.14623904e+00  4.54986066e-01\n",
            "  -8.03455524e-03 -7.42921054e-01 -3.72265667e-01 -3.70200902e-01\n",
            "  -3.25479656e-01 -6.13804579e-01 -3.13808292e-01  9.50322330e-01\n",
            "   3.67401242e-01  3.01152647e-01  1.07607441e-02  3.59327942e-01\n",
            "  -2.75717944e-01 -3.50953668e-01  7.13700831e-01 -3.17974836e-01\n",
            "   6.13298655e-01  2.91675776e-01  2.17294618e-01  1.63397267e-01\n",
            "   1.97010357e-02  4.39305425e-01  3.59678388e-01  2.37017602e-01\n",
            "   2.89925784e-01  2.04663068e-01 -4.62941438e-01  2.70864308e-01\n",
            "  -5.26288291e-03 -3.08827072e-01 -1.44609764e-01 -2.36877203e-02\n",
            "  -4.38282818e-01  9.76241291e-01 -3.19352955e-01  2.34421059e-01\n",
            "   1.20414305e+00  4.69403416e-01  5.17284125e-02  4.63148892e-01\n",
            "  -2.35533953e-01 -6.51322484e-01 -4.60314095e-01 -5.06957471e-01\n",
            "   8.57495740e-02  4.34434623e-01  4.12289985e-02 -6.15098095e-03\n",
            "   2.67178297e-01 -2.73434281e-01 -1.35974497e-01  2.05701232e-01\n",
            "  -3.04401278e-01 -3.66480082e-01  1.72750428e-02 -3.28770056e-02\n",
            "   1.79699168e-01  1.97945625e-01 -5.26707053e-01 -4.06521022e-01\n",
            "   8.69041860e-01  7.33648896e-01  6.79750204e-01 -4.70979750e-01\n",
            "   5.74521124e-01  3.76585662e-01 -1.64017037e-01  6.76023075e-04\n",
            "  -4.39133883e-01  2.40425989e-01 -9.62895274e-01 -7.83159435e-02\n",
            "  -3.38871926e-02  6.30597845e-02 -5.31678014e-02  4.21055853e-02]\n",
            " [ 1.12068820e+00 -9.41239595e-01 -1.13510311e-01  2.39387453e-01\n",
            "   4.45100442e-02 -5.79554439e-02  4.06336993e-01 -4.87824053e-01\n",
            "   8.80923629e-01  1.60354882e-01  2.46878892e-01  1.05279773e-01\n",
            "  -1.80009469e-01  3.01481247e-01 -9.98859107e-01  4.76871550e-01\n",
            "  -8.46655592e-02  5.83794057e-01 -6.09205604e-01  5.24603307e-01\n",
            "  -2.84495831e-01  4.24270242e-01 -6.65474772e-01  4.77954507e-01\n",
            "   1.85247838e-01  4.62066948e-01  5.50231338e-02 -3.13866101e-02\n",
            "   2.55856216e-01 -2.47886792e-01  2.85760105e-01 -2.83628047e-01\n",
            "  -4.09768760e-01 -2.11349323e-01  5.40556192e-01  3.68611813e-01\n",
            "   1.85599044e-01 -1.57763883e-01  2.55150080e-01 -6.48977399e-01\n",
            "  -3.93252462e-01  2.50394315e-01 -3.59618068e-01 -2.82950401e-01\n",
            "  -2.30151430e-01  6.70344234e-01 -4.82043296e-01 -6.07978463e-01\n",
            "  -5.39449871e-01 -4.12007980e-02 -3.02285552e-01  4.80691195e-01\n",
            "  -2.76795059e-01  2.98968047e-01 -4.51004744e-01  2.86967516e-01\n",
            "  -1.17547348e-01 -3.27076912e-02 -3.68577808e-01  3.77951056e-01\n",
            "   1.08814068e-01  5.71190380e-02  1.04975291e-01  1.81602269e-01\n",
            "   1.85257718e-01  6.55739233e-02  3.48543376e-02 -4.06200856e-01\n",
            "   3.28035653e-01  2.00234249e-01  4.10799086e-01  1.78714804e-02\n",
            "  -9.55738407e-03 -4.06141400e-01 -9.35053900e-02 -2.32642874e-01\n",
            "  -1.20479763e+00 -2.73858428e-01  1.83256060e-01  1.48008212e-01\n",
            "  -1.21623665e-01 -2.15505227e-01 -2.22118184e-01 -6.91105425e-01\n",
            "  -9.55868214e-02 -1.56847164e-01  1.31516144e-01 -3.27608258e-01\n",
            "  -7.34501332e-02 -3.84258389e-01 -6.06439531e-01 -1.34042606e-01\n",
            "  -1.47333041e-01  3.68277103e-01 -4.97702450e-01 -2.12979496e-01\n",
            "   5.87559283e-01 -4.20126468e-01 -6.96843684e-01  4.66162652e-01]\n",
            " [ 1.35490620e+00 -9.58015442e-01 -2.18604833e-01  3.51627022e-01\n",
            "  -5.16291499e-01 -4.35653865e-01  2.92130679e-01 -2.50875831e-01\n",
            "   8.62002432e-01  7.10896924e-02  3.65234226e-01  3.43704015e-01\n",
            "  -1.58326745e-01  4.92267936e-01 -1.17893875e+00  1.81357890e-01\n",
            "  -4.74758297e-01  6.45816684e-01 -3.00810605e-01  3.65038007e-01\n",
            "   1.94442958e-01 -1.73022553e-01 -3.76669109e-01  5.23440391e-02\n",
            "   5.16529024e-01  1.79676309e-01 -7.29951710e-02  1.73218660e-02\n",
            "   5.05186737e-01 -1.34979382e-01  2.16708139e-01 -2.09719837e-01\n",
            "  -1.08591318e-01  4.08688724e-01  5.48696041e-01  1.59479111e-01\n",
            "   7.73889124e-01 -3.41236770e-01  3.39847170e-02 -2.48921160e-02\n",
            "  -2.88842618e-01  2.25968465e-01  1.49473306e-02 -5.55390358e-01\n",
            "  -2.68548168e-02  2.51358598e-01  1.83590278e-01 -6.36815965e-01\n",
            "   1.35603249e-01  1.16471471e-02 -1.26154825e-01  1.34534180e-01\n",
            "  -6.81530774e-01  1.53371766e-01 -3.02587658e-01  5.24043858e-01\n",
            "   4.46849503e-02 -3.03303123e-01 -2.40103051e-01 -4.42490727e-01\n",
            "   8.51258278e-01  2.43303418e-01  3.33190635e-02  6.09898806e-01\n",
            "   4.35992330e-01 -4.37317230e-03  9.76252481e-02 -2.87175030e-01\n",
            "   5.50513983e-01  3.23137403e-01  1.43451676e-01 -7.12265246e-05\n",
            "   2.75347918e-01  1.37813017e-01  1.51286796e-01 -6.05300128e-01\n",
            "  -1.25619245e+00 -3.70195135e-02  4.53824848e-01 -3.38400677e-02\n",
            "  -2.22139195e-01  1.79333076e-01 -2.04217747e-01 -3.38119030e-01\n",
            "  -1.11811399e-01 -1.81566775e-01  1.03383757e-01 -5.55180013e-01\n",
            "   2.83778042e-01 -1.37365654e-01 -8.39786053e-01 -3.55279446e-01\n",
            "  -1.19888932e-01  2.82189995e-02  3.54951085e-03 -3.82668883e-01\n",
            "   1.25783116e-01  1.23418970e-02 -6.23781800e-01  5.88030398e-01]\n",
            " [ 2.55577594e-01 -7.66706049e-01 -4.29379165e-01  2.34219149e-01\n",
            "  -4.57008511e-01  1.70076713e-01  2.82219946e-01 -5.06643236e-01\n",
            "   3.86551589e-01  5.10481954e-01  8.91582221e-02  9.49913800e-01\n",
            "  -2.38666460e-02  4.63046134e-01 -3.61860394e-02  3.09200346e-01\n",
            "   2.14683831e-01  3.07306439e-01  1.35501176e-02  2.84598708e-01\n",
            "   3.74484181e-01 -1.24754980e-01 -1.32948309e-01  3.57662618e-01\n",
            "   4.13177431e-01  4.03016806e-01 -1.60906568e-01  4.61775884e-02\n",
            "  -2.86781430e-01 -5.07966913e-02  4.05602336e-01  1.62754253e-01\n",
            "   3.05089355e-02 -9.13330913e-02  4.04371083e-01  1.79083794e-01\n",
            "  -4.10577618e-02  3.16138603e-02  6.99187279e-01 -1.25298634e-01\n",
            "  -1.00280987e-02 -3.86117876e-01 -2.55239636e-01 -1.59626856e-01\n",
            "  -5.50258338e-01  3.91851842e-01 -3.83487791e-01 -4.52244312e-01\n",
            "  -1.34749815e-01  1.84684828e-01 -2.77325034e-01  3.74794632e-01\n",
            "  -3.35626572e-01  3.51354927e-01 -1.52048066e-01 -1.55000329e-01\n",
            "  -2.13859364e-01 -2.80052144e-02 -3.50119919e-01  2.07586244e-01\n",
            "   2.22151875e-01 -3.10572058e-01 -4.82127696e-01  4.72981155e-01\n",
            "  -5.17036058e-02  2.04280883e-01  1.69675589e-01 -5.43689251e-01\n",
            "   1.18653141e-01  6.10365093e-01  3.32679421e-01 -1.21493474e-01\n",
            "  -4.50838685e-01  2.18168572e-01 -5.54149486e-02 -8.07357848e-01\n",
            "  -7.15496182e-01 -3.60767066e-01  9.36531961e-01  3.57170403e-01\n",
            "   6.54678106e-01  1.88789979e-01  1.90152064e-01 -5.04709125e-01\n",
            "  -1.27164036e-01 -2.14019135e-01 -5.23687564e-02 -2.37319469e-01\n",
            "  -2.31211320e-01 -5.82240880e-01 -8.75061154e-02  2.62111686e-02\n",
            "   6.80785328e-02  9.34567079e-02 -6.04354367e-02 -1.06356055e-01\n",
            "  -4.98507679e-01 -6.01869106e-01 -2.88528018e-02  2.33573183e-01]]\n"
          ]
        }
      ]
    },
    {
      "cell_type": "markdown",
      "source": [
        "#Calculate Cosine Similarity Matrix:\n",
        "The code calculates the cosine similarity matrix for a set of movie descriptions. Cosine similarity measures the cosine of the angle between two vectors and is commonly used to determine the similarity between documents. In this context, the matrix quantifies the similarity between each pair of movies based on their CBOW representations. Higher values indicate greater similarity, aiding in identifying related movies within the dataset."
      ],
      "metadata": {
        "id": "zLkVeS11i5PF"
      }
    },
    {
      "cell_type": "code",
      "source": [
        "from sklearn.metrics.pairwise import cosine_similarity\n",
        "similarity3 = cosine_similarity(movie_vectors)\n"
      ],
      "metadata": {
        "id": "yCKiLpQ9Zy6W"
      },
      "execution_count": 36,
      "outputs": []
    },
    {
      "cell_type": "code",
      "source": [
        "similarity3"
      ],
      "metadata": {
        "colab": {
          "base_uri": "https://localhost:8080/"
        },
        "id": "OKgsG9IqZ8pp",
        "outputId": "8ee1e6f3-8329-4e95-e1da-18beb0fb726a"
      },
      "execution_count": 43,
      "outputs": [
        {
          "output_type": "execute_result",
          "data": {
            "text/plain": [
              "array([[ 1.0000001 ,  0.2310874 ,  0.667011  , ..., -0.02384842,\n",
              "         0.6267297 ,  0.76745534],\n",
              "       [ 0.2310874 ,  1.0000001 ,  0.12025918, ...,  0.08661406,\n",
              "         0.13217697,  0.0317366 ],\n",
              "       [ 0.667011  ,  0.12025918,  1.0000001 , ..., -0.0102811 ,\n",
              "         0.537254  ,  0.7944926 ],\n",
              "       ...,\n",
              "       [-0.02384842,  0.08661406, -0.0102811 , ...,  0.99999976,\n",
              "         0.07077102, -0.03721448],\n",
              "       [ 0.6267297 ,  0.13217697,  0.537254  , ...,  0.07077102,\n",
              "         0.9999999 ,  0.5280606 ],\n",
              "       [ 0.76745534,  0.0317366 ,  0.7944926 , ..., -0.03721448,\n",
              "         0.5280606 ,  1.0000002 ]], dtype=float32)"
            ]
          },
          "metadata": {},
          "execution_count": 43
        }
      ]
    },
    {
      "cell_type": "markdown",
      "source": [
        "# Recommendation function with similarity percentages"
      ],
      "metadata": {
        "id": "I6nPJmMrjB_a"
      }
    },
    {
      "cell_type": "code",
      "source": [
        "import matplotlib.pyplot as plt\n",
        "\n",
        "def recommend(movie, similarity_matrix=similarity3):\n",
        "    index = df1[df1['title'] == movie].index[0]\n",
        "    distances = sorted(enumerate(similarity_matrix[index]), reverse=True, key=lambda x: x[1])\n",
        "\n",
        "    recommended_movies = []\n",
        "    similarity_percentages = []\n",
        "\n",
        "    for i, distance in distances[1:6]:\n",
        "        title = df1.iloc[i].title\n",
        "        similarity_percentage = round((distance) * 100, 2)\n",
        "\n",
        "        # Exclude the same movie as the input\n",
        "        if i != index:\n",
        "            recommended_movies.append(title)\n",
        "            similarity_percentages.append(similarity_percentage)\n",
        "\n",
        "            # Print only if the recommended movie has a different ID than the input\n",
        "            print(f\"{title}: Similarity {similarity_percentage}%\" if i != index else \"\")\n",
        "\n",
        "    # Plot histogram\n",
        "    plt.figure(figsize=(10, 6))\n",
        "    plt.bar(recommended_movies, similarity_percentages, color='skyblue')\n",
        "    plt.xlabel('Recommended Movies')\n",
        "    plt.ylabel('Similarity Percentage')\n",
        "    plt.title(f'Similarity Percentage for Movies Similar to {movie}')\n",
        "    plt.ylim([0, 100])\n",
        "    plt.show()"
      ],
      "metadata": {
        "id": "4KSqGioNZ-va"
      },
      "execution_count": 37,
      "outputs": []
    },
    {
      "cell_type": "code",
      "source": [
        "recommend(\"Iron Man 2\")"
      ],
      "metadata": {
        "colab": {
          "base_uri": "https://localhost:8080/",
          "height": 655
        },
        "id": "v5wDWHEVaHhL",
        "outputId": "3d2eae09-2c03-4ee3-e6bf-bc1b02bf0fd4"
      },
      "execution_count": 38,
      "outputs": [
        {
          "output_type": "stream",
          "name": "stdout",
          "text": [
            "Iron Man: Similarity 93.01%\n",
            "Iron Man 2: Similarity 88.85%\n",
            "Iron Man Three: Similarity 87.84%\n",
            "Iron Man: Similarity 85.07%\n",
            "The Avengers: Similarity 83.84%\n"
          ]
        },
        {
          "output_type": "display_data",
          "data": {
            "text/plain": [
              "<Figure size 1000x600 with 1 Axes>"
            ],
            "image/png": "[encoded data removed]"
          },
          "metadata": {}
        }
      ]
    },
    {
      "cell_type": "markdown",
      "source": [
        "# conclusion"
      ],
      "metadata": {
        "id": "dql-N33njSeP"
      }
    },
    {
      "cell_type": "markdown",
      "source": [
        "In the realm of movie similarity analysis, our project undertook a comprehensive exploration utilizing three distinct text embedding methods: Continuous Bag of Words (CBOW), Bag of Words (BoW), and Term Frequency-Inverse Document Frequency (TF-IDF). Each method, with its unique approach, contributed valuable insights into quantifying semantic relationships between movie plot synopses.\n",
        "\n",
        "#CBOW Dominance:\n",
        "Among the trio, the CBOW model emerged as the frontrunner, showcasing superior performance in capturing subtle nuances and contextual intricacies within the movie synopses. The results speak volumes, with CBOW consistently outshining BoW and TF-IDF counterparts. Noteworthy examples include \"Iron Man\" and its sequels, where CBOW achieved impressive similarity scores, such as 93.01% for \"Iron Man\" and 88.85% for \"Iron Man 2.\"\n",
        "\n",
        "#BoW and TF-IDF Insights:\n",
        "While BoW and TF-IDF methods demonstrated commendable performance, especially in capturing salient features of the text, their overall similarity scores fell slightly behind CBOW. BoW, with its simplicity and effectiveness, provided reliable results, evident in cases like \"Scarface: The World Is Yours.\" TF-IDF, leveraging term importance, demonstrated its prowess but exhibited lower similarity scores compared to CBOW.\n",
        "\n",
        "#Practical Implications:\n",
        "The choice of text embedding method carries substantial implications for various applications. CBOW, excelling in contextual understanding, could prove invaluable in tasks such as recommendation systems, where nuanced similarities are crucial. BoW, offering simplicity and interpretability, might find applications in scenarios where a more straightforward representation suffices. TF-IDF, with its emphasis on term importance, remains a viable option for capturing key features within a corpus.\n",
        "\n",
        "#Future Endeavors:\n",
        "As we conclude this project, there exists ample opportunity for further exploration and refinement. Fine-tuning hyperparameters, experimenting with different pre-trained embeddings, and incorporating advanced techniques such as Doc2Vec could enhance the robustness of similarity analysis. The journey to unraveling the intricacies of text representations in the cinematic world continues, laying the groundwork for more nuanced and accurate models in the future."
      ],
      "metadata": {
        "id": "RyoUzZiMjUlx"
      }
    },
    {
      "cell_type": "code",
      "source": [
        "# Save movie vectors to a pickle file\n",
        "with open('similarity.pkl', 'wb') as file:\n",
        "      pickle.dump(similarity3, file)"
      ],
      "metadata": {
        "id": "RcjEdinmggoX"
      },
      "execution_count": 42,
      "outputs": []
    },
    {
      "cell_type": "code",
      "source": [
        "# Save movie vectors to a pickle file\n",
        "with open('data_frame.pkl', 'wb') as file:\n",
        "      pickle.dump(df1, file)"
      ],
      "metadata": {
        "id": "Mf431zVRFfg1"
      },
      "execution_count": 46,
      "outputs": []
    },
    {
      "cell_type": "code",
      "source": [
        "import zipfile\n",
        "from google.colab import files\n",
        "\n",
        "# Replace 'your_file_path' with the actual path of your file\n",
        "file_path = '/content/similarity.pkl'\n",
        "\n",
        "# Download the compressed file\n",
        "files.download(file_path)\n",
        "\n"
      ],
      "metadata": {
        "id": "tybfNoXPAR2u"
      },
      "execution_count": null,
      "outputs": []
    },
    {
      "cell_type": "code",
      "source": [
        "import zipfile\n",
        "from google.colab import files\n",
        "\n",
        "# Replace 'your_file_path' with the actual path of your file\n",
        "file_path = '/content/data_frame.pkl'\n",
        "\n",
        "# Download the compressed file\n",
        "files.download(file_path)\n",
        "\n"
      ],
      "metadata": {
        "id": "WPl6ZUMXFrkX"
      },
      "execution_count": null,
      "outputs": []
    }
  ],
  "metadata": {
    "accelerator": "GPU",
    "colab": {
      "provenance": []
    },
    "kernelspec": {
      "display_name": "Python 3",
      "name": "python3"
    },
    "language_info": {
      "name": "python"
    }
  },
  "nbformat": 4,
  "nbformat_minor": 0
}